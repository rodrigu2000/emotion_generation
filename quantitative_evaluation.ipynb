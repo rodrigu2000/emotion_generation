{
 "cells": [
  {
   "cell_type": "markdown",
   "metadata": {},
   "source": [
    "# Quantitative evaluation\n",
    "\n",
    "Use ArFace metric and Emotion metric to compare the performance of : \n",
    "    - e4e initialization vs hybrid initialization\n",
    "    - og loss vs custom loss"
   ]
  },
  {
   "cell_type": "code",
   "execution_count": 1,
   "metadata": {},
   "outputs": [],
   "source": [
    "from argparse import Namespace\n",
    "import time\n",
    "import sys\n",
    "import numpy as np\n",
    "from PIL import Image\n",
    "import torch\n",
    "import torchvision.transforms as transforms\n",
    "import matplotlib.pyplot as plt\n",
    "from torch.amp import autocast\n",
    "from tqdm import tqdm\n",
    "import clip\n",
    "import torch.nn.functional as F\n",
    "\n",
    "from utils.common import tensor2im\n",
    "from utils.alignment import run_alignment\n",
    "from models.psp import pSp  # we use the pSp framework to load the e4e encoder.\n",
    "from criteria.clip_loss import CLIPLoss\n",
    "from criteria.id_loss import IDLoss\n",
    "\n",
    "%load_ext autoreload\n",
    "%autoreload 2\n",
    "%matplotlib inline\n",
    "\n",
    "device = 'cuda' if torch.cuda.is_available() else 'cpu'\n",
    "RESIZE_DIMS = (256, 256)"
   ]
  },
  {
   "cell_type": "code",
   "execution_count": 2,
   "metadata": {},
   "outputs": [],
   "source": [
    "# Define the arguments for the e4e encoder\n",
    "\n",
    "pretrained_pSp_path = 'pretrained_models/e4e_ffhq_encode.pt'\n",
    "\n",
    "e4e_transform = transforms.Compose([\n",
    "    transforms.Resize((256, 256)),\n",
    "    transforms.ToTensor(),\n",
    "    transforms.Normalize([0.5, 0.5, 0.5], [0.5, 0.5, 0.5])]\n",
    ")"
   ]
  },
  {
   "cell_type": "code",
   "execution_count": 3,
   "metadata": {},
   "outputs": [
    {
     "name": "stderr",
     "output_type": "stream",
     "text": [
      "/tmp/ipykernel_333685/3793385928.py:3: FutureWarning: You are using `torch.load` with `weights_only=False` (the current default value), which uses the default pickle module implicitly. It is possible to construct malicious pickle data which will execute arbitrary code during unpickling (See https://github.com/pytorch/pytorch/blob/main/SECURITY.md#untrusted-models for more details). In a future release, the default value for `weights_only` will be flipped to `True`. This limits the functions that could be executed during unpickling. Arbitrary objects will no longer be allowed to be loaded via this mode unless they are explicitly allowlisted by the user via `torch.serialization.add_safe_globals`. We recommend you start setting `weights_only=True` for any use case where you don't have full control of the loaded file. Please open an issue on GitHub for any issues related to this experimental feature.\n",
      "  ckpt = torch.load(pretrained_pSp_path, map_location='cpu')\n"
     ]
    },
    {
     "name": "stdout",
     "output_type": "stream",
     "text": [
      "Loading e4e over the pSp framework from checkpoint: pretrained_models/e4e_ffhq_encode.pt\n"
     ]
    },
    {
     "name": "stderr",
     "output_type": "stream",
     "text": [
      "/users/eleves-b/2022/rodrigue.reibel/emotion_generation/models/psp.py:44: FutureWarning: You are using `torch.load` with `weights_only=False` (the current default value), which uses the default pickle module implicitly. It is possible to construct malicious pickle data which will execute arbitrary code during unpickling (See https://github.com/pytorch/pytorch/blob/main/SECURITY.md#untrusted-models for more details). In a future release, the default value for `weights_only` will be flipped to `True`. This limits the functions that could be executed during unpickling. Arbitrary objects will no longer be allowed to be loaded via this mode unless they are explicitly allowlisted by the user via `torch.serialization.add_safe_globals`. We recommend you start setting `weights_only=True` for any use case where you don't have full control of the loaded file. Please open an issue on GitHub for any issues related to this experimental feature.\n",
      "  ckpt = torch.load(self.opts.checkpoint_path, map_location='cpu')\n"
     ]
    },
    {
     "name": "stdout",
     "output_type": "stream",
     "text": [
      "Model successfully loaded!\n"
     ]
    }
   ],
   "source": [
    "# Load the pSp model\n",
    "\n",
    "ckpt = torch.load(pretrained_pSp_path, map_location='cpu')\n",
    "opts = ckpt['opts']\n",
    "opts['checkpoint_path'] = pretrained_pSp_path\n",
    "opts['ir_se50_weights'] = 'pretrained_models/model_ir_se50.pth'\n",
    "opts= Namespace(**opts)\n",
    "latent_avg = ckpt[\"latent_avg\"]\n",
    "\n",
    "psp_model = pSp(opts)\n",
    "psp_model.eval()\n",
    "psp_model.cuda()\n",
    "\n",
    "print('Model successfully loaded!')"
   ]
  },
  {
   "cell_type": "code",
   "execution_count": null,
   "metadata": {},
   "outputs": [
    {
     "name": "stderr",
     "output_type": "stream",
     "text": [
      "/tmp/ipykernel_333685/3776924524.py:6: FutureWarning: You are using `torch.load` with `weights_only=False` (the current default value), which uses the default pickle module implicitly. It is possible to construct malicious pickle data which will execute arbitrary code during unpickling (See https://github.com/pytorch/pytorch/blob/main/SECURITY.md#untrusted-models for more details). In a future release, the default value for `weights_only` will be flipped to `True`. This limits the functions that could be executed during unpickling. Arbitrary objects will no longer be allowed to be loaded via this mode unless they are explicitly allowlisted by the user via `torch.serialization.add_safe_globals`. We recommend you start setting `weights_only=True` for any use case where you don't have full control of the loaded file. Please open an issue on GitHub for any issues related to this experimental feature.\n",
      "  checkpoint = torch.load(path, map_location=device)\n"
     ]
    }
   ],
   "source": [
    "# Load the emotion model\n",
    "\n",
    "from emotionmmodel.networks.DDAM import DDAMNet\n",
    "emotion_model = DDAMNet(num_class=7, num_head=2, pretrained=False)\n",
    "path = \"pretrained_models/affecnet7_epoch19_acc0.671.pth\"\n",
    "checkpoint = torch.load(path, map_location=device)\n",
    "emotion_model.load_state_dict(checkpoint['model_state_dict'])\n",
    "emotion_model.to(device)\n",
    "emotion_model.eval()    \n",
    "val_transform = transforms.Compose([\n",
    "        transforms.Resize((112, 112)),\n",
    "        transforms.ToTensor(),\n",
    "        transforms.Normalize(mean=[0.485, 0.456, 0.406],\n",
    "                                 std=[0.229, 0.224, 0.225])]) "
   ]
  },
  {
   "cell_type": "code",
   "execution_count": 24,
   "metadata": {},
   "outputs": [],
   "source": [
    "import os\n",
    "\n",
    "input_images_path = \"faces_dataset_very_small\"\n",
    "N_images = len(os.listdir(input_images_path))\n",
    "images = np.array(os.listdir(input_images_path))[np.random.randint(0, len(os.listdir(input_images_path)), N_images)]\n"
   ]
  },
  {
   "cell_type": "code",
   "execution_count": 26,
   "metadata": {},
   "outputs": [
    {
     "name": "stdout",
     "output_type": "stream",
     "text": [
      "Loading ResNet ArcFace\n"
     ]
    }
   ],
   "source": [
    "# Parameters for inversion\n",
    "optimization_steps_inv = 50\n",
    "lambda_percept_inv = 1\n",
    "lambda_L2_inv = 0.5\n",
    "lr_inv = 0.01 \n",
    "final_lr_inv = 0.001\n",
    "\n",
    "# Parameters for editing\n",
    "optimization_steps_edit = 50\n",
    "lambda_L2_edit = 0.01\n",
    "lambda_ID_edit = 0.01\n",
    "lambda_E_edit = 0.01\n",
    "lr_edit = 0.01\n",
    "final_lr_edit = 0.001\n",
    "truncation_edit = 0.9\n",
    "\n",
    "id_loss = IDLoss(opts)\n",
    "L2_loss = torch.nn.MSELoss().to(device)\n",
    "clip_loss = CLIPLoss(opts)\n",
    "emotion_loss = torch.nn.CrossEntropyLoss()\n",
    "\n",
    "G = psp_model.decoder\n",
    "prompt = \"A person smiling\"\n",
    "# class7_names = ['Neutral', 'Happy', 'Sad', 'Surprise', 'Fear', 'Disgust', 'Angry']\n",
    "goal_distribution = torch.tensor([[0., 1., 0., 0., 0., 0., 0.]], device=device)"
   ]
  },
  {
   "cell_type": "code",
   "execution_count": null,
   "metadata": {},
   "outputs": [
    {
     "name": "stdout",
     "output_type": "stream",
     "text": [
      "*** Processing image 1/65 ***\n"
     ]
    },
    {
     "name": "stderr",
     "output_type": "stream",
     "text": [
      "Loss: 0.0310: 100%|██████████| 50/50 [00:08<00:00,  6.11it/s]\n",
      "Loss: 0.7192: 100%|██████████| 50/50 [00:16<00:00,  3.02it/s]\n",
      "Loss: 0.7134: 100%|██████████| 50/50 [00:16<00:00,  3.04it/s]\n"
     ]
    },
    {
     "name": "stdout",
     "output_type": "stream",
     "text": [
      "*** Processing image 2/65 ***\n"
     ]
    },
    {
     "name": "stderr",
     "output_type": "stream",
     "text": [
      "Loss: 0.0587: 100%|██████████| 50/50 [00:08<00:00,  6.09it/s]\n",
      "Loss: 0.7222: 100%|██████████| 50/50 [00:16<00:00,  3.02it/s]\n",
      "Loss: 0.7236: 100%|██████████| 50/50 [00:16<00:00,  3.02it/s]\n"
     ]
    },
    {
     "name": "stdout",
     "output_type": "stream",
     "text": [
      "*** Processing image 3/65 ***\n"
     ]
    },
    {
     "name": "stderr",
     "output_type": "stream",
     "text": [
      "Loss: 0.0232: 100%|██████████| 50/50 [00:08<00:00,  6.06it/s]\n",
      "Loss: 0.7461: 100%|██████████| 50/50 [00:16<00:00,  3.02it/s]\n",
      "Loss: 0.7422: 100%|██████████| 50/50 [00:16<00:00,  3.02it/s]\n"
     ]
    },
    {
     "name": "stdout",
     "output_type": "stream",
     "text": [
      "*** Processing image 4/65 ***\n"
     ]
    },
    {
     "name": "stderr",
     "output_type": "stream",
     "text": [
      "Loss: 0.0211: 100%|██████████| 50/50 [00:08<00:00,  6.05it/s]\n",
      "Loss: 0.7354: 100%|██████████| 50/50 [00:16<00:00,  3.02it/s]\n",
      "Loss: 0.7354: 100%|██████████| 50/50 [00:16<00:00,  3.02it/s]\n"
     ]
    },
    {
     "name": "stdout",
     "output_type": "stream",
     "text": [
      "*** Processing image 5/65 ***\n"
     ]
    },
    {
     "name": "stderr",
     "output_type": "stream",
     "text": [
      "Loss: 0.0516: 100%|██████████| 50/50 [00:08<00:00,  6.02it/s]\n",
      "Loss: 0.7192: 100%|██████████| 50/50 [00:16<00:00,  3.02it/s]\n",
      "Loss: 0.7183: 100%|██████████| 50/50 [00:16<00:00,  3.02it/s]\n"
     ]
    },
    {
     "name": "stdout",
     "output_type": "stream",
     "text": [
      "*** Processing image 6/65 ***\n"
     ]
    },
    {
     "name": "stderr",
     "output_type": "stream",
     "text": [
      "Loss: 0.0283: 100%|██████████| 50/50 [00:08<00:00,  6.02it/s]\n",
      "Loss: 0.7549: 100%|██████████| 50/50 [00:16<00:00,  3.02it/s]\n",
      "Loss: 0.7261: 100%|██████████| 50/50 [00:16<00:00,  3.02it/s]\n"
     ]
    },
    {
     "name": "stdout",
     "output_type": "stream",
     "text": [
      "*** Processing image 7/65 ***\n"
     ]
    },
    {
     "name": "stderr",
     "output_type": "stream",
     "text": [
      "Loss: 0.0328: 100%|██████████| 50/50 [00:08<00:00,  6.02it/s]\n",
      "Loss: 0.7319: 100%|██████████| 50/50 [00:16<00:00,  3.02it/s]\n",
      "Loss: 0.7319: 100%|██████████| 50/50 [00:16<00:00,  3.02it/s]\n"
     ]
    },
    {
     "name": "stdout",
     "output_type": "stream",
     "text": [
      "*** Processing image 8/65 ***\n"
     ]
    },
    {
     "name": "stderr",
     "output_type": "stream",
     "text": [
      "Loss: 0.0377: 100%|██████████| 50/50 [00:08<00:00,  6.01it/s]\n",
      "Loss: 0.7407: 100%|██████████| 50/50 [00:16<00:00,  3.00it/s]\n",
      "Loss: 0.7480: 100%|██████████| 50/50 [00:16<00:00,  3.02it/s]\n"
     ]
    },
    {
     "name": "stdout",
     "output_type": "stream",
     "text": [
      "*** Processing image 9/65 ***\n"
     ]
    },
    {
     "name": "stderr",
     "output_type": "stream",
     "text": [
      "Loss: 0.0532: 100%|██████████| 50/50 [00:08<00:00,  6.00it/s]\n",
      "Loss: 0.7119: 100%|██████████| 50/50 [00:16<00:00,  3.03it/s]\n",
      "Loss: 0.7080: 100%|██████████| 50/50 [00:16<00:00,  3.03it/s]\n"
     ]
    },
    {
     "name": "stdout",
     "output_type": "stream",
     "text": [
      "*** Processing image 10/65 ***\n"
     ]
    },
    {
     "name": "stderr",
     "output_type": "stream",
     "text": [
      "Loss: 0.0196: 100%|██████████| 50/50 [00:08<00:00,  6.01it/s]\n",
      "Loss: 0.7446: 100%|██████████| 50/50 [00:16<00:00,  3.03it/s]\n",
      "Loss: 0.7529: 100%|██████████| 50/50 [00:16<00:00,  3.03it/s]\n"
     ]
    },
    {
     "name": "stdout",
     "output_type": "stream",
     "text": [
      "*** Processing image 11/65 ***\n"
     ]
    },
    {
     "name": "stderr",
     "output_type": "stream",
     "text": [
      "Loss: 0.0390: 100%|██████████| 50/50 [00:08<00:00,  6.00it/s]\n",
      "Loss: 0.7227: 100%|██████████| 50/50 [00:16<00:00,  3.03it/s]\n",
      "Loss: 0.7207: 100%|██████████| 50/50 [00:16<00:00,  3.03it/s]\n"
     ]
    },
    {
     "name": "stdout",
     "output_type": "stream",
     "text": [
      "*** Processing image 12/65 ***\n"
     ]
    },
    {
     "name": "stderr",
     "output_type": "stream",
     "text": [
      "Loss: 0.0231: 100%|██████████| 50/50 [00:08<00:00,  6.01it/s]\n",
      "Loss: 0.7456: 100%|██████████| 50/50 [00:16<00:00,  3.03it/s]\n",
      "Loss: 0.7422: 100%|██████████| 50/50 [00:16<00:00,  3.03it/s]\n"
     ]
    },
    {
     "name": "stdout",
     "output_type": "stream",
     "text": [
      "*** Processing image 13/65 ***\n"
     ]
    },
    {
     "name": "stderr",
     "output_type": "stream",
     "text": [
      "Loss: 0.0393: 100%|██████████| 50/50 [00:08<00:00,  6.00it/s]\n",
      "Loss: 0.7397: 100%|██████████| 50/50 [00:16<00:00,  3.03it/s]\n",
      "Loss: 0.7329: 100%|██████████| 50/50 [00:16<00:00,  3.03it/s]\n"
     ]
    },
    {
     "name": "stdout",
     "output_type": "stream",
     "text": [
      "*** Processing image 14/65 ***\n"
     ]
    },
    {
     "name": "stderr",
     "output_type": "stream",
     "text": [
      "Loss: 0.0456: 100%|██████████| 50/50 [00:08<00:00,  6.00it/s]\n",
      "Loss: 0.7095: 100%|██████████| 50/50 [00:16<00:00,  3.03it/s]\n",
      "Loss: 0.7070: 100%|██████████| 50/50 [00:16<00:00,  3.02it/s]\n"
     ]
    },
    {
     "name": "stdout",
     "output_type": "stream",
     "text": [
      "*** Processing image 15/65 ***\n"
     ]
    },
    {
     "name": "stderr",
     "output_type": "stream",
     "text": [
      "Loss: 0.0287: 100%|██████████| 50/50 [00:08<00:00,  6.00it/s]\n",
      "Loss: 0.7212: 100%|██████████| 50/50 [00:16<00:00,  3.03it/s]\n",
      "Loss: 0.7114: 100%|██████████| 50/50 [00:16<00:00,  3.00it/s]\n"
     ]
    },
    {
     "name": "stdout",
     "output_type": "stream",
     "text": [
      "*** Processing image 16/65 ***\n"
     ]
    },
    {
     "name": "stderr",
     "output_type": "stream",
     "text": [
      "Loss: 0.0379: 100%|██████████| 50/50 [00:08<00:00,  6.00it/s]\n",
      "Loss: 0.7217: 100%|██████████| 50/50 [00:16<00:00,  3.02it/s]\n",
      "Loss: 0.7192: 100%|██████████| 50/50 [00:16<00:00,  3.02it/s]\n"
     ]
    },
    {
     "name": "stdout",
     "output_type": "stream",
     "text": [
      "*** Processing image 17/65 ***\n"
     ]
    },
    {
     "name": "stderr",
     "output_type": "stream",
     "text": [
      "Loss: 0.0387: 100%|██████████| 50/50 [00:08<00:00,  6.00it/s]\n",
      "Loss: 0.7061: 100%|██████████| 50/50 [00:16<00:00,  3.05it/s]\n",
      "Loss: 0.7056: 100%|██████████| 50/50 [00:16<00:00,  3.03it/s]\n"
     ]
    },
    {
     "name": "stdout",
     "output_type": "stream",
     "text": [
      "*** Processing image 18/65 ***\n"
     ]
    },
    {
     "name": "stderr",
     "output_type": "stream",
     "text": [
      "Loss: 0.0326: 100%|██████████| 50/50 [00:08<00:00,  6.00it/s]\n",
      "Loss: 0.7153: 100%|██████████| 50/50 [00:16<00:00,  3.03it/s]\n",
      "Loss: 0.7329: 100%|██████████| 50/50 [00:16<00:00,  3.03it/s]\n"
     ]
    },
    {
     "name": "stdout",
     "output_type": "stream",
     "text": [
      "*** Processing image 19/65 ***\n"
     ]
    },
    {
     "name": "stderr",
     "output_type": "stream",
     "text": [
      "Loss: 0.0485: 100%|██████████| 50/50 [00:08<00:00,  6.00it/s]\n",
      "Loss: 0.7456: 100%|██████████| 50/50 [00:16<00:00,  3.03it/s]\n",
      "Loss: 0.7363: 100%|██████████| 50/50 [00:16<00:00,  3.03it/s]\n"
     ]
    },
    {
     "name": "stdout",
     "output_type": "stream",
     "text": [
      "*** Processing image 20/65 ***\n"
     ]
    },
    {
     "name": "stderr",
     "output_type": "stream",
     "text": [
      "Loss: 0.0487: 100%|██████████| 50/50 [00:08<00:00,  6.00it/s]\n",
      "Loss: 0.7451: 100%|██████████| 50/50 [00:16<00:00,  3.03it/s]\n",
      "Loss: 0.7363: 100%|██████████| 50/50 [00:16<00:00,  3.03it/s]\n"
     ]
    },
    {
     "name": "stdout",
     "output_type": "stream",
     "text": [
      "*** Processing image 21/65 ***\n"
     ]
    },
    {
     "name": "stderr",
     "output_type": "stream",
     "text": [
      "Loss: 0.0377: 100%|██████████| 50/50 [00:08<00:00,  6.00it/s]\n",
      "Loss: 0.7090: 100%|██████████| 50/50 [00:16<00:00,  3.03it/s]\n",
      "Loss: 0.7100: 100%|██████████| 50/50 [00:16<00:00,  3.03it/s]\n"
     ]
    },
    {
     "name": "stdout",
     "output_type": "stream",
     "text": [
      "*** Processing image 22/65 ***\n"
     ]
    },
    {
     "name": "stderr",
     "output_type": "stream",
     "text": [
      "Loss: 0.0413: 100%|██████████| 50/50 [00:08<00:00,  6.01it/s]\n",
      "Loss: 0.7578: 100%|██████████| 50/50 [00:16<00:00,  3.03it/s]\n",
      "Loss: 0.7554: 100%|██████████| 50/50 [00:16<00:00,  3.00it/s]\n"
     ]
    },
    {
     "name": "stdout",
     "output_type": "stream",
     "text": [
      "*** Processing image 23/65 ***\n"
     ]
    },
    {
     "name": "stderr",
     "output_type": "stream",
     "text": [
      "Loss: 0.0373: 100%|██████████| 50/50 [00:08<00:00,  6.00it/s]\n",
      "Loss: 0.7412: 100%|██████████| 50/50 [00:16<00:00,  3.02it/s]\n",
      "Loss: 0.7456: 100%|██████████| 50/50 [00:16<00:00,  3.02it/s]\n"
     ]
    },
    {
     "name": "stdout",
     "output_type": "stream",
     "text": [
      "*** Processing image 24/65 ***\n"
     ]
    },
    {
     "name": "stderr",
     "output_type": "stream",
     "text": [
      "Loss: 0.0373: 100%|██████████| 50/50 [00:08<00:00,  6.00it/s]\n",
      "Loss: 0.7412: 100%|██████████| 50/50 [00:16<00:00,  3.02it/s]\n",
      "Loss: 0.7456: 100%|██████████| 50/50 [00:16<00:00,  3.02it/s]\n"
     ]
    },
    {
     "name": "stdout",
     "output_type": "stream",
     "text": [
      "*** Processing image 25/65 ***\n"
     ]
    },
    {
     "name": "stderr",
     "output_type": "stream",
     "text": [
      "Loss: 0.0257: 100%|██████████| 50/50 [00:08<00:00,  6.01it/s]\n",
      "Loss: 0.7310: 100%|██████████| 50/50 [00:16<00:00,  3.02it/s]\n",
      "Loss: 0.7227: 100%|██████████| 50/50 [00:16<00:00,  3.02it/s]\n"
     ]
    },
    {
     "name": "stdout",
     "output_type": "stream",
     "text": [
      "*** Processing image 26/65 ***\n"
     ]
    },
    {
     "name": "stderr",
     "output_type": "stream",
     "text": [
      "Loss: 0.0273: 100%|██████████| 50/50 [00:08<00:00,  6.00it/s]\n",
      "Loss: 0.7168: 100%|██████████| 50/50 [00:16<00:00,  3.01it/s]\n",
      "Loss: 0.7041: 100%|██████████| 50/50 [00:16<00:00,  3.01it/s]\n"
     ]
    },
    {
     "name": "stdout",
     "output_type": "stream",
     "text": [
      "*** Processing image 27/65 ***\n"
     ]
    },
    {
     "name": "stderr",
     "output_type": "stream",
     "text": [
      "Loss: 0.0254: 100%|██████████| 50/50 [00:08<00:00,  6.00it/s]\n",
      "Loss: 0.7305: 100%|██████████| 50/50 [00:16<00:00,  3.01it/s]\n",
      "Loss: 0.7407: 100%|██████████| 50/50 [00:16<00:00,  3.01it/s]\n"
     ]
    },
    {
     "name": "stdout",
     "output_type": "stream",
     "text": [
      "*** Processing image 28/65 ***\n"
     ]
    },
    {
     "name": "stderr",
     "output_type": "stream",
     "text": [
      "Loss: 0.0624: 100%|██████████| 50/50 [00:08<00:00,  5.99it/s]\n",
      "Loss: 0.7676: 100%|██████████| 50/50 [00:16<00:00,  3.01it/s]\n",
      "Loss: 0.7803: 100%|██████████| 50/50 [00:16<00:00,  3.01it/s]\n"
     ]
    },
    {
     "name": "stdout",
     "output_type": "stream",
     "text": [
      "*** Processing image 29/65 ***\n"
     ]
    },
    {
     "name": "stderr",
     "output_type": "stream",
     "text": [
      "Loss: 0.0326: 100%|██████████| 50/50 [00:08<00:00,  5.99it/s]\n",
      "Loss: 0.7236: 100%|██████████| 50/50 [00:16<00:00,  3.01it/s]\n",
      "Loss: 0.7178: 100%|██████████| 50/50 [00:16<00:00,  2.98it/s]\n"
     ]
    },
    {
     "name": "stdout",
     "output_type": "stream",
     "text": [
      "*** Processing image 30/65 ***\n"
     ]
    },
    {
     "name": "stderr",
     "output_type": "stream",
     "text": [
      "Loss: 0.0414: 100%|██████████| 50/50 [00:08<00:00,  6.00it/s]\n",
      "Loss: 0.7920: 100%|██████████| 50/50 [00:16<00:00,  3.01it/s]\n",
      "Loss: 0.7598: 100%|██████████| 50/50 [00:16<00:00,  3.01it/s]\n"
     ]
    },
    {
     "name": "stdout",
     "output_type": "stream",
     "text": [
      "*** Processing image 31/65 ***\n"
     ]
    },
    {
     "name": "stderr",
     "output_type": "stream",
     "text": [
      "Loss: 0.0623: 100%|██████████| 50/50 [00:08<00:00,  5.99it/s]\n",
      "Loss: 0.7656: 100%|██████████| 50/50 [00:16<00:00,  3.01it/s]\n",
      "Loss: 0.7798: 100%|██████████| 50/50 [00:16<00:00,  3.01it/s]\n"
     ]
    },
    {
     "name": "stdout",
     "output_type": "stream",
     "text": [
      "*** Processing image 32/65 ***\n"
     ]
    },
    {
     "name": "stderr",
     "output_type": "stream",
     "text": [
      "Loss: 0.0294: 100%|██████████| 50/50 [00:08<00:00,  6.00it/s]\n",
      "Loss: 0.7305: 100%|██████████| 50/50 [00:16<00:00,  3.01it/s]\n",
      "Loss: 0.7275: 100%|██████████| 50/50 [00:16<00:00,  3.01it/s]\n"
     ]
    },
    {
     "name": "stdout",
     "output_type": "stream",
     "text": [
      "*** Processing image 33/65 ***\n"
     ]
    },
    {
     "name": "stderr",
     "output_type": "stream",
     "text": [
      "Loss: 0.0455: 100%|██████████| 50/50 [00:08<00:00,  5.99it/s]\n",
      "Loss: 0.7090: 100%|██████████| 50/50 [00:16<00:00,  3.01it/s]\n",
      "Loss: 0.7070: 100%|██████████| 50/50 [00:16<00:00,  3.01it/s]\n"
     ]
    },
    {
     "name": "stdout",
     "output_type": "stream",
     "text": [
      "*** Processing image 34/65 ***\n"
     ]
    },
    {
     "name": "stderr",
     "output_type": "stream",
     "text": [
      "Loss: 0.0339: 100%|██████████| 50/50 [00:08<00:00,  5.99it/s]\n",
      "Loss: 0.7158: 100%|██████████| 50/50 [00:16<00:00,  3.01it/s]\n",
      "Loss: 0.7212: 100%|██████████| 50/50 [00:16<00:00,  3.01it/s]\n"
     ]
    },
    {
     "name": "stdout",
     "output_type": "stream",
     "text": [
      "*** Processing image 35/65 ***\n"
     ]
    },
    {
     "name": "stderr",
     "output_type": "stream",
     "text": [
      "Loss: 0.0299: 100%|██████████| 50/50 [00:08<00:00,  5.99it/s]\n",
      "Loss: 0.7314: 100%|██████████| 50/50 [00:16<00:00,  3.02it/s]\n",
      "Loss: 0.7275: 100%|██████████| 50/50 [00:16<00:00,  3.02it/s]\n"
     ]
    },
    {
     "name": "stdout",
     "output_type": "stream",
     "text": [
      "*** Processing image 36/65 ***\n"
     ]
    },
    {
     "name": "stderr",
     "output_type": "stream",
     "text": [
      "Loss: 0.0427: 100%|██████████| 50/50 [00:08<00:00,  5.99it/s]\n",
      "Loss: 0.7163: 100%|██████████| 50/50 [00:16<00:00,  3.03it/s]\n",
      "Loss: 0.7168: 100%|██████████| 50/50 [00:16<00:00,  2.99it/s]\n"
     ]
    },
    {
     "name": "stdout",
     "output_type": "stream",
     "text": [
      "*** Processing image 37/65 ***\n"
     ]
    },
    {
     "name": "stderr",
     "output_type": "stream",
     "text": [
      "Loss: 0.0620: 100%|██████████| 50/50 [00:08<00:00,  5.99it/s]\n",
      "Loss: 0.7681: 100%|██████████| 50/50 [00:16<00:00,  3.01it/s]\n",
      "Loss: 0.7798: 100%|██████████| 50/50 [00:16<00:00,  3.01it/s]\n"
     ]
    },
    {
     "name": "stdout",
     "output_type": "stream",
     "text": [
      "*** Processing image 38/65 ***\n"
     ]
    },
    {
     "name": "stderr",
     "output_type": "stream",
     "text": [
      "Loss: 0.0252: 100%|██████████| 50/50 [00:08<00:00,  5.99it/s]\n",
      "Loss: 0.7310: 100%|██████████| 50/50 [00:16<00:00,  3.01it/s]\n",
      "Loss: 0.7417: 100%|██████████| 50/50 [00:16<00:00,  3.01it/s]\n"
     ]
    },
    {
     "name": "stdout",
     "output_type": "stream",
     "text": [
      "*** Processing image 39/65 ***\n"
     ]
    },
    {
     "name": "stderr",
     "output_type": "stream",
     "text": [
      "Loss: 0.0328: 100%|██████████| 50/50 [00:08<00:00,  5.99it/s]\n",
      "Loss: 0.7329: 100%|██████████| 50/50 [00:16<00:00,  3.01it/s]\n",
      "Loss: 0.7314: 100%|██████████| 50/50 [00:16<00:00,  3.01it/s]\n"
     ]
    },
    {
     "name": "stdout",
     "output_type": "stream",
     "text": [
      "*** Processing image 40/65 ***\n"
     ]
    },
    {
     "name": "stderr",
     "output_type": "stream",
     "text": [
      "Loss: 0.0263: 100%|██████████| 50/50 [00:08<00:00,  5.99it/s]\n",
      "Loss: 0.7432: 100%|██████████| 50/50 [00:16<00:00,  3.01it/s]\n",
      "Loss: 0.7417: 100%|██████████| 50/50 [00:16<00:00,  3.01it/s]\n"
     ]
    },
    {
     "name": "stdout",
     "output_type": "stream",
     "text": [
      "*** Processing image 41/65 ***\n"
     ]
    },
    {
     "name": "stderr",
     "output_type": "stream",
     "text": [
      "Loss: 0.0326: 100%|██████████| 50/50 [00:08<00:00,  5.99it/s]\n",
      "Loss: 0.7236: 100%|██████████| 50/50 [00:16<00:00,  3.01it/s]\n",
      "Loss: 0.7178: 100%|██████████| 50/50 [00:16<00:00,  3.01it/s]\n"
     ]
    },
    {
     "name": "stdout",
     "output_type": "stream",
     "text": [
      "*** Processing image 42/65 ***\n"
     ]
    },
    {
     "name": "stderr",
     "output_type": "stream",
     "text": [
      "Loss: 0.0572: 100%|██████████| 50/50 [00:08<00:00,  5.99it/s]\n",
      "Loss: 0.7222: 100%|██████████| 50/50 [00:16<00:00,  3.02it/s]\n",
      "Loss: 0.7222: 100%|██████████| 50/50 [00:16<00:00,  3.03it/s]\n"
     ]
    },
    {
     "name": "stdout",
     "output_type": "stream",
     "text": [
      "*** Processing image 43/65 ***\n"
     ]
    },
    {
     "name": "stderr",
     "output_type": "stream",
     "text": [
      "Loss: 0.0348: 100%|██████████| 50/50 [00:08<00:00,  6.00it/s]\n",
      "Loss: 0.7344: 100%|██████████| 50/50 [00:16<00:00,  3.03it/s]\n",
      "Loss: 0.7319: 100%|██████████| 50/50 [00:16<00:00,  3.00it/s]\n"
     ]
    },
    {
     "name": "stdout",
     "output_type": "stream",
     "text": [
      "*** Processing image 44/65 ***\n"
     ]
    },
    {
     "name": "stderr",
     "output_type": "stream",
     "text": [
      "Loss: 0.0390: 100%|██████████| 50/50 [00:08<00:00,  5.99it/s]\n",
      "Loss: 0.7231: 100%|██████████| 50/50 [00:16<00:00,  3.03it/s]\n",
      "Loss: 0.7197: 100%|██████████| 50/50 [00:16<00:00,  3.02it/s]\n"
     ]
    },
    {
     "name": "stdout",
     "output_type": "stream",
     "text": [
      "*** Processing image 45/65 ***\n"
     ]
    },
    {
     "name": "stderr",
     "output_type": "stream",
     "text": [
      "Loss: 0.0298: 100%|██████████| 50/50 [00:08<00:00,  5.98it/s]\n",
      "Loss: 0.7119: 100%|██████████| 50/50 [00:16<00:00,  3.00it/s]\n",
      "Loss: 0.7007: 100%|██████████| 50/50 [00:16<00:00,  3.00it/s]\n"
     ]
    },
    {
     "name": "stdout",
     "output_type": "stream",
     "text": [
      "*** Processing image 46/65 ***\n"
     ]
    },
    {
     "name": "stderr",
     "output_type": "stream",
     "text": [
      "Loss: 0.0453: 100%|██████████| 50/50 [00:08<00:00,  5.97it/s]\n",
      "Loss: 0.7280: 100%|██████████| 50/50 [00:16<00:00,  3.00it/s]\n",
      "Loss: 0.7188: 100%|██████████| 50/50 [00:16<00:00,  3.00it/s]\n"
     ]
    },
    {
     "name": "stdout",
     "output_type": "stream",
     "text": [
      "*** Processing image 47/65 ***\n"
     ]
    },
    {
     "name": "stderr",
     "output_type": "stream",
     "text": [
      "Loss: 0.0379: 100%|██████████| 50/50 [00:08<00:00,  5.97it/s]\n",
      "Loss: 0.7227: 100%|██████████| 50/50 [00:16<00:00,  3.00it/s]\n",
      "Loss: 0.7192: 100%|██████████| 50/50 [00:16<00:00,  3.01it/s]\n"
     ]
    },
    {
     "name": "stdout",
     "output_type": "stream",
     "text": [
      "*** Processing image 48/65 ***\n"
     ]
    },
    {
     "name": "stderr",
     "output_type": "stream",
     "text": [
      "Loss: 0.0298: 100%|██████████| 50/50 [00:08<00:00,  5.98it/s]\n",
      "Loss: 0.7129: 100%|██████████| 50/50 [00:16<00:00,  3.02it/s]\n",
      "Loss: 0.7002: 100%|██████████| 50/50 [00:16<00:00,  3.02it/s]\n"
     ]
    },
    {
     "name": "stdout",
     "output_type": "stream",
     "text": [
      "*** Processing image 49/65 ***\n"
     ]
    },
    {
     "name": "stderr",
     "output_type": "stream",
     "text": [
      "Loss: 0.0267: 100%|██████████| 50/50 [00:08<00:00,  5.98it/s]\n",
      "Loss: 0.7734: 100%|██████████| 50/50 [00:16<00:00,  3.02it/s]\n",
      "Loss: 0.7715: 100%|██████████| 50/50 [00:16<00:00,  3.02it/s]\n"
     ]
    },
    {
     "name": "stdout",
     "output_type": "stream",
     "text": [
      "*** Processing image 50/65 ***\n"
     ]
    },
    {
     "name": "stderr",
     "output_type": "stream",
     "text": [
      "Loss: 0.0233: 100%|██████████| 50/50 [00:08<00:00,  5.97it/s]\n",
      "Loss: 0.7456: 100%|██████████| 50/50 [00:16<00:00,  3.02it/s]\n",
      "Loss: 0.7339: 100%|██████████| 50/50 [00:16<00:00,  2.99it/s]\n"
     ]
    },
    {
     "name": "stdout",
     "output_type": "stream",
     "text": [
      "*** Processing image 51/65 ***\n"
     ]
    },
    {
     "name": "stderr",
     "output_type": "stream",
     "text": [
      "Loss: 0.0325: 100%|██████████| 50/50 [00:08<00:00,  5.97it/s]\n",
      "Loss: 0.7246: 100%|██████████| 50/50 [00:16<00:00,  3.02it/s]\n",
      "Loss: 0.7178: 100%|██████████| 50/50 [00:16<00:00,  3.02it/s]\n"
     ]
    },
    {
     "name": "stdout",
     "output_type": "stream",
     "text": [
      "*** Processing image 52/65 ***\n"
     ]
    },
    {
     "name": "stderr",
     "output_type": "stream",
     "text": [
      "Loss: 0.0326: 100%|██████████| 50/50 [00:08<00:00,  5.97it/s]\n",
      "Loss: 0.7246: 100%|██████████| 50/50 [00:16<00:00,  3.02it/s]\n",
      "Loss: 0.7178: 100%|██████████| 50/50 [00:16<00:00,  3.02it/s]\n"
     ]
    },
    {
     "name": "stdout",
     "output_type": "stream",
     "text": [
      "*** Processing image 53/65 ***\n"
     ]
    },
    {
     "name": "stderr",
     "output_type": "stream",
     "text": [
      "Loss: 0.0263: 100%|██████████| 50/50 [00:08<00:00,  5.97it/s]\n",
      "Loss: 0.7432: 100%|██████████| 50/50 [00:16<00:00,  3.02it/s]\n",
      "Loss: 0.7422: 100%|██████████| 50/50 [00:16<00:00,  3.02it/s]\n"
     ]
    },
    {
     "name": "stdout",
     "output_type": "stream",
     "text": [
      "*** Processing image 54/65 ***\n"
     ]
    },
    {
     "name": "stderr",
     "output_type": "stream",
     "text": [
      "Loss: 0.0333: 100%|██████████| 50/50 [00:08<00:00,  5.98it/s]\n",
      "Loss: 0.7217: 100%|██████████| 50/50 [00:16<00:00,  3.02it/s]\n",
      "Loss: 0.7129: 100%|██████████| 50/50 [00:16<00:00,  3.02it/s]\n"
     ]
    },
    {
     "name": "stdout",
     "output_type": "stream",
     "text": [
      "*** Processing image 55/65 ***\n"
     ]
    },
    {
     "name": "stderr",
     "output_type": "stream",
     "text": [
      "Loss: 0.0287: 100%|██████████| 50/50 [00:08<00:00,  5.97it/s]\n",
      "Loss: 0.7554: 100%|██████████| 50/50 [00:16<00:00,  3.01it/s]\n",
      "Loss: 0.7261: 100%|██████████| 50/50 [00:16<00:00,  3.02it/s]\n"
     ]
    },
    {
     "name": "stdout",
     "output_type": "stream",
     "text": [
      "*** Processing image 56/65 ***\n"
     ]
    },
    {
     "name": "stderr",
     "output_type": "stream",
     "text": [
      "Loss: 0.0391: 100%|██████████| 50/50 [00:08<00:00,  5.98it/s]\n",
      "Loss: 0.7217: 100%|██████████| 50/50 [00:16<00:00,  3.02it/s]\n",
      "Loss: 0.7212: 100%|██████████| 50/50 [00:16<00:00,  3.02it/s]\n"
     ]
    },
    {
     "name": "stdout",
     "output_type": "stream",
     "text": [
      "*** Processing image 57/65 ***\n"
     ]
    },
    {
     "name": "stderr",
     "output_type": "stream",
     "text": [
      "Loss: 0.0396: 100%|██████████| 50/50 [00:08<00:00,  5.97it/s]\n",
      "Loss: 0.7397: 100%|██████████| 50/50 [00:16<00:00,  3.02it/s]\n",
      "Loss: 0.7314: 100%|██████████| 50/50 [00:16<00:00,  3.02it/s]\n"
     ]
    },
    {
     "name": "stdout",
     "output_type": "stream",
     "text": [
      "*** Processing image 58/65 ***\n"
     ]
    },
    {
     "name": "stderr",
     "output_type": "stream",
     "text": [
      "Loss: 0.0516: 100%|██████████| 50/50 [00:08<00:00,  5.97it/s]\n",
      "Loss: 0.7188: 100%|██████████| 50/50 [00:16<00:00,  3.00it/s]\n",
      "Loss: 0.7188: 100%|██████████| 50/50 [00:16<00:00,  3.02it/s]\n"
     ]
    },
    {
     "name": "stdout",
     "output_type": "stream",
     "text": [
      "*** Processing image 59/65 ***\n"
     ]
    },
    {
     "name": "stderr",
     "output_type": "stream",
     "text": [
      "Loss: 0.0516: 100%|██████████| 50/50 [00:08<00:00,  5.98it/s]\n",
      "Loss: 0.7192: 100%|██████████| 50/50 [00:16<00:00,  3.02it/s]\n",
      "Loss: 0.7183: 100%|██████████| 50/50 [00:16<00:00,  3.02it/s]\n"
     ]
    },
    {
     "name": "stdout",
     "output_type": "stream",
     "text": [
      "*** Processing image 60/65 ***\n"
     ]
    },
    {
     "name": "stderr",
     "output_type": "stream",
     "text": [
      "Loss: 0.0347: 100%|██████████| 50/50 [00:08<00:00,  5.97it/s]\n",
      "Loss: 0.6924: 100%|██████████| 50/50 [00:16<00:00,  3.01it/s]\n",
      "Loss: 0.6875: 100%|██████████| 50/50 [00:16<00:00,  3.01it/s]\n"
     ]
    },
    {
     "name": "stdout",
     "output_type": "stream",
     "text": [
      "*** Processing image 61/65 ***\n"
     ]
    },
    {
     "name": "stderr",
     "output_type": "stream",
     "text": [
      "Loss: 0.0341: 100%|██████████| 50/50 [00:08<00:00,  5.97it/s]\n",
      "Loss: 0.7212: 100%|██████████| 50/50 [00:16<00:00,  3.01it/s]\n",
      "Loss: 0.7373: 100%|██████████| 50/50 [00:16<00:00,  3.01it/s]\n"
     ]
    },
    {
     "name": "stdout",
     "output_type": "stream",
     "text": [
      "*** Processing image 62/65 ***\n"
     ]
    },
    {
     "name": "stderr",
     "output_type": "stream",
     "text": [
      "Loss: 0.0288: 100%|██████████| 50/50 [00:08<00:00,  5.97it/s]\n",
      "Loss: 0.7212: 100%|██████████| 50/50 [00:16<00:00,  3.01it/s]\n",
      "Loss: 0.7119: 100%|██████████| 50/50 [00:16<00:00,  3.01it/s]\n"
     ]
    },
    {
     "name": "stdout",
     "output_type": "stream",
     "text": [
      "*** Processing image 63/65 ***\n"
     ]
    },
    {
     "name": "stderr",
     "output_type": "stream",
     "text": [
      "Loss: 0.0342: 100%|██████████| 50/50 [00:08<00:00,  5.98it/s]\n",
      "Loss: 0.7539: 100%|██████████| 50/50 [00:16<00:00,  3.01it/s]\n",
      "Loss: 0.7485: 100%|██████████| 50/50 [00:16<00:00,  3.02it/s]\n"
     ]
    },
    {
     "name": "stdout",
     "output_type": "stream",
     "text": [
      "*** Processing image 64/65 ***\n"
     ]
    },
    {
     "name": "stderr",
     "output_type": "stream",
     "text": [
      "Loss: 0.0433: 100%|██████████| 50/50 [00:08<00:00,  5.97it/s]\n",
      "Loss: 0.7227: 100%|██████████| 50/50 [00:16<00:00,  3.03it/s]\n",
      "Loss: 0.7202: 100%|██████████| 50/50 [00:16<00:00,  3.05it/s]\n"
     ]
    },
    {
     "name": "stdout",
     "output_type": "stream",
     "text": [
      "*** Processing image 65/65 ***\n"
     ]
    },
    {
     "name": "stderr",
     "output_type": "stream",
     "text": [
      "Loss: 0.0334: 100%|██████████| 50/50 [00:08<00:00,  6.02it/s]\n",
      "Loss: 0.7217: 100%|██████████| 50/50 [00:16<00:00,  3.05it/s]\n",
      "Loss: 0.7124: 100%|██████████| 50/50 [00:16<00:00,  3.03it/s]\n"
     ]
    }
   ],
   "source": [
    "sims_e4e = []\n",
    "sims_hybrid = []\n",
    "sims_e4e_edit = []\n",
    "sims_hybrid_edit = []\n",
    "emo_scores_e4e = []\n",
    "emo_scores_hybrid = []\n",
    "\n",
    "for i_image, image_path in enumerate(images):\n",
    "    print(f\"*** Processing image {i_image + 1}/{N_images} ***\")\n",
    "    image = run_alignment(os.path.join(input_images_path, image_path)).resize(RESIZE_DIMS)\n",
    "    input_image = e4e_transform(image)\n",
    "    reference_image = transforms.Resize((1024, 1024))(input_image).unsqueeze(0).cuda()\n",
    "\n",
    "\n",
    "    with torch.no_grad():\n",
    "        e4e_inverted_latent = psp_model.encoder(input_image.unsqueeze(0).to(device))\n",
    "    if psp_model.opts.start_from_latent_avg:\n",
    "                    if e4e_inverted_latent.ndim == 2:\n",
    "                        e4e_inverted_latent = e4e_inverted_latent + psp_model.latent_avg.repeat(e4e_inverted_latent.shape[0], 1, 1)[:, 0, :]\n",
    "                    else:\n",
    "                        e4e_inverted_latent = e4e_inverted_latent + psp_model.latent_avg.repeat(e4e_inverted_latent.shape[0], 1, 1)\n",
    "\n",
    "\n",
    "    w_n = e4e_inverted_latent.clone().detach().requires_grad_(True).to(device) # initialization with e4e output\n",
    "\n",
    "    optimizer = torch.optim.Adam([w_n], lr=lr_inv)\n",
    "    scheduler = torch.optim.lr_scheduler.CosineAnnealingLR(optimizer, T_max=optimization_steps_inv, eta_min=final_lr_inv)\n",
    "\n",
    " \n",
    "\n",
    "    pbar = tqdm(range(optimization_steps_inv))\n",
    "\n",
    "    imgs = []\n",
    "    losses = []\n",
    "\n",
    "\n",
    "    for i in pbar:\n",
    "\n",
    "        with autocast(\"cuda\"):\n",
    "            \n",
    "            optimizer.zero_grad()\n",
    "\n",
    "            img_gen, _ = G([w_n], input_is_latent=True, randomize_noise=False)\n",
    "\n",
    "            i_loss = id_loss(img_gen, reference_image)[0]\n",
    "            l2_loss = L2_loss(img_gen, reference_image)\n",
    "\n",
    "            loss = i_loss * lambda_percept_inv + l2_loss * lambda_L2_inv \n",
    "            losses.append(loss.item())\n",
    "            pbar.set_description(f\"Loss: {loss.item():.4f}\")\n",
    "\n",
    "            loss.backward()\n",
    "            optimizer.step()\n",
    "            scheduler.step()\n",
    "\n",
    "    inverted_latent = w_n.detach()\n",
    "\n",
    "    # Compute ID metric between inverted images and original image\n",
    "\n",
    "    with torch.no_grad():\n",
    "        e4e_inverted_image, _ = G([e4e_inverted_latent], input_is_latent=True, randomize_noise=False)\n",
    "        inverted_image = img_gen.detach()\n",
    "\n",
    "    sim_e4e = id_loss(e4e_inverted_image, reference_image)[0]\n",
    "    sim_hybrid = id_loss(inverted_image, reference_image)[0]\n",
    "\n",
    "    sims_e4e.append(sim_e4e.item())\n",
    "    sims_hybrid.append(sim_hybrid.item())\n",
    "\n",
    "    ##### Editing evaluation #####\n",
    "\n",
    "    text_inputs = torch.cat([clip.tokenize(prompt)]).cuda()\n",
    "\n",
    "    for latent, sims, emo_scores in zip([e4e_inverted_latent, inverted_latent], [sims_e4e_edit, sims_hybrid_edit], [emo_scores_e4e, emo_scores_hybrid]):\n",
    "\n",
    "    # Initialization\n",
    "        w_start = latent\n",
    "\n",
    "        w_n = w_start.clone().detach().requires_grad_(True).to(device)\n",
    "        optimizer = torch.optim.Adam([w_n], lr=lr_edit)\n",
    "        scheduler = torch.optim.lr_scheduler.CosineAnnealingLR(optimizer, T_max=optimization_steps_edit, eta_min=final_lr_edit)\n",
    "\n",
    "\n",
    "        with torch.no_grad():\n",
    "            img_orig, _ = G([w_n], input_is_latent=True)\n",
    "\n",
    "        pbar = tqdm(range(optimization_steps_edit))\n",
    "\n",
    "        imgs = []\n",
    "        losses = []\n",
    "\n",
    "        # Optimization loop\n",
    "\n",
    "        for i in pbar:\n",
    "\n",
    "            with autocast(\"cuda\"):\n",
    "                \n",
    "                optimizer.zero_grad()\n",
    "\n",
    "                img_gen, _ = G([w_n], input_is_latent=True, randomize_noise=False)\n",
    "\n",
    "                c_loss = clip_loss(img_gen, text_inputs)\n",
    "                i_loss = id_loss(img_gen, img_orig)[0] # original\n",
    "                l2_loss = ((w_start - w_n) ** 2).sum()\n",
    "\n",
    "                img_for_emotion = F.interpolate(img_gen, size=(112, 112), mode='bilinear', align_corners=False)\n",
    "                prediction, feat, heads = emotion_model(img_for_emotion)\n",
    "                e_loss = emotion_loss(prediction, goal_distribution)\n",
    "\n",
    "                loss = c_loss + lambda_L2_edit * l2_loss + lambda_ID_edit * i_loss + lambda_E_edit * e_loss\n",
    "                losses.append(loss.item())\n",
    "                pbar.set_description(f\"Loss: {loss.item():.4f}\")\n",
    "\n",
    "                loss.backward()\n",
    "                optimizer.step()\n",
    "                scheduler.step()\n",
    "\n",
    "        final_image = img_gen.detach()\n",
    "\n",
    "        # Compute ID metric between edited images and original image\n",
    "\n",
    "        sim = id_loss(final_image, reference_image)[0]\n",
    "        emo_score = e_loss # TODO: compute emotion score\n",
    "\n",
    "        sims.append(sim.item())\n",
    "        emo_scores.append(emo_score.item())"
   ]
  },
  {
   "cell_type": "code",
   "execution_count": 2,
   "metadata": {},
   "outputs": [],
   "source": [
    "# Save results\n",
    "import os\n",
    "save_path = \"results\"\n",
    "os.makedirs(save_path, exist_ok=True)\n",
    "\n",
    "SAVE_RESULTS = False\n",
    "\n",
    "if SAVE_RESULTS:\n",
    "    np.save(os.path.join(save_path, \"sims_e4e.npy\"), sims_e4e)\n",
    "    np.save(os.path.join(save_path, \"sims_hybrid.npy\"), sims_hybrid)\n",
    "    np.save(os.path.join(save_path, \"sims_e4e_edit.npy\"), sims_e4e_edit)\n",
    "    np.save(os.path.join(save_path, \"sims_hybrid_edit.npy\"), sims_hybrid_edit)\n",
    "    np.save(os.path.join(save_path, \"emo_scores_e4e.npy\"), emo_scores_e4e)"
   ]
  },
  {
   "cell_type": "code",
   "execution_count": 10,
   "metadata": {},
   "outputs": [
    {
     "ename": "FileNotFoundError",
     "evalue": "[Errno 2] No such file or directory: 'results/emo_scores_hybrid.npy'",
     "output_type": "error",
     "traceback": [
      "\u001b[0;31m---------------------------------------------------------------------------\u001b[0m",
      "\u001b[0;31mFileNotFoundError\u001b[0m                         Traceback (most recent call last)",
      "Cell \u001b[0;32mIn[10], line 12\u001b[0m\n\u001b[1;32m     10\u001b[0m sims_hybrid_edit \u001b[38;5;241m=\u001b[39m np\u001b[38;5;241m.\u001b[39mload(os\u001b[38;5;241m.\u001b[39mpath\u001b[38;5;241m.\u001b[39mjoin(save_path, \u001b[38;5;124m\"\u001b[39m\u001b[38;5;124msims_hybrid_edit.npy\u001b[39m\u001b[38;5;124m\"\u001b[39m))\n\u001b[1;32m     11\u001b[0m emo_scores_e4e \u001b[38;5;241m=\u001b[39m np\u001b[38;5;241m.\u001b[39mload(os\u001b[38;5;241m.\u001b[39mpath\u001b[38;5;241m.\u001b[39mjoin(save_path, \u001b[38;5;124m\"\u001b[39m\u001b[38;5;124memo_scores_e4e.npy\u001b[39m\u001b[38;5;124m\"\u001b[39m))\n\u001b[0;32m---> 12\u001b[0m emo_scores_hybrid \u001b[38;5;241m=\u001b[39m \u001b[43mnp\u001b[49m\u001b[38;5;241;43m.\u001b[39;49m\u001b[43mload\u001b[49m\u001b[43m(\u001b[49m\u001b[43mos\u001b[49m\u001b[38;5;241;43m.\u001b[39;49m\u001b[43mpath\u001b[49m\u001b[38;5;241;43m.\u001b[39;49m\u001b[43mjoin\u001b[49m\u001b[43m(\u001b[49m\u001b[43msave_path\u001b[49m\u001b[43m,\u001b[49m\u001b[43m \u001b[49m\u001b[38;5;124;43m\"\u001b[39;49m\u001b[38;5;124;43memo_scores_hybrid.npy\u001b[39;49m\u001b[38;5;124;43m\"\u001b[39;49m\u001b[43m)\u001b[49m\u001b[43m)\u001b[49m\n",
      "File \u001b[0;32m~/.local/lib/python3.9/site-packages/numpy/lib/_npyio_impl.py:455\u001b[0m, in \u001b[0;36mload\u001b[0;34m(file, mmap_mode, allow_pickle, fix_imports, encoding, max_header_size)\u001b[0m\n\u001b[1;32m    453\u001b[0m     own_fid \u001b[38;5;241m=\u001b[39m \u001b[38;5;28;01mFalse\u001b[39;00m\n\u001b[1;32m    454\u001b[0m \u001b[38;5;28;01melse\u001b[39;00m:\n\u001b[0;32m--> 455\u001b[0m     fid \u001b[38;5;241m=\u001b[39m stack\u001b[38;5;241m.\u001b[39menter_context(\u001b[38;5;28;43mopen\u001b[39;49m\u001b[43m(\u001b[49m\u001b[43mos\u001b[49m\u001b[38;5;241;43m.\u001b[39;49m\u001b[43mfspath\u001b[49m\u001b[43m(\u001b[49m\u001b[43mfile\u001b[49m\u001b[43m)\u001b[49m\u001b[43m,\u001b[49m\u001b[43m \u001b[49m\u001b[38;5;124;43m\"\u001b[39;49m\u001b[38;5;124;43mrb\u001b[39;49m\u001b[38;5;124;43m\"\u001b[39;49m\u001b[43m)\u001b[49m)\n\u001b[1;32m    456\u001b[0m     own_fid \u001b[38;5;241m=\u001b[39m \u001b[38;5;28;01mTrue\u001b[39;00m\n\u001b[1;32m    458\u001b[0m \u001b[38;5;66;03m# Code to distinguish from NumPy binary files and pickles.\u001b[39;00m\n",
      "\u001b[0;31mFileNotFoundError\u001b[0m: [Errno 2] No such file or directory: 'results/emo_scores_hybrid.npy'"
     ]
    }
   ],
   "source": [
    "# Load results\n",
    "\n",
    "LOAD_RESULTS = True\n",
    "\n",
    "if LOAD_RESULTS:\n",
    "\n",
    "    sims_e4e = np.load(os.path.join(save_path, \"sims_e4e.npy\"))\n",
    "    sims_hybrid = np.load(os.path.join(save_path, \"sims_hybrid.npy\"))\n",
    "    sims_e4e_edit = np.load(os.path.join(save_path, \"sims_e4e_edit.npy\"))\n",
    "    sims_hybrid_edit = np.load(os.path.join(save_path, \"sims_hybrid_edit.npy\"))\n",
    "    emo_scores_e4e = np.load(os.path.join(save_path, \"emo_scores_e4e.npy\"))\n",
    "    emo_scores_hybrid = np.load(os.path.join(save_path, \"emo_scores_hybrid.npy\"))"
   ]
  },
  {
   "cell_type": "code",
   "execution_count": 8,
   "metadata": {},
   "outputs": [
    {
     "data": {
      "application/vnd.plotly.v1+json": {
       "config": {
        "plotlyServerURL": "https://plot.ly"
       },
       "data": [
        {
         "alignmentgroup": "True",
         "hovertemplate": "operation=inversion<br>inversion type=%{x}<br>dissimilarity=%{y}<extra></extra>",
         "legendgroup": "inversion",
         "marker": {
          "color": "#636efa"
         },
         "name": "inversion",
         "notched": false,
         "offsetgroup": "inversion",
         "orientation": "v",
         "quartilemethod": "exclusive",
         "showlegend": true,
         "type": "box",
         "x": [
          "e4e inversion",
          "e4e inversion",
          "e4e inversion",
          "e4e inversion",
          "e4e inversion",
          "e4e inversion",
          "e4e inversion",
          "e4e inversion",
          "e4e inversion",
          "e4e inversion",
          "e4e inversion",
          "e4e inversion",
          "e4e inversion",
          "e4e inversion",
          "e4e inversion",
          "e4e inversion",
          "e4e inversion",
          "e4e inversion",
          "e4e inversion",
          "e4e inversion",
          "e4e inversion",
          "e4e inversion",
          "e4e inversion",
          "e4e inversion",
          "e4e inversion",
          "e4e inversion",
          "e4e inversion",
          "e4e inversion",
          "e4e inversion",
          "e4e inversion",
          "e4e inversion",
          "e4e inversion",
          "e4e inversion",
          "e4e inversion",
          "e4e inversion",
          "e4e inversion",
          "e4e inversion",
          "e4e inversion",
          "e4e inversion",
          "e4e inversion",
          "e4e inversion",
          "e4e inversion",
          "e4e inversion",
          "e4e inversion",
          "e4e inversion",
          "e4e inversion",
          "e4e inversion",
          "e4e inversion",
          "e4e inversion",
          "e4e inversion",
          "e4e inversion",
          "e4e inversion",
          "e4e inversion",
          "e4e inversion",
          "e4e inversion",
          "e4e inversion",
          "e4e inversion",
          "e4e inversion",
          "e4e inversion",
          "e4e inversion",
          "e4e inversion",
          "e4e inversion",
          "e4e inversion",
          "e4e inversion",
          "e4e inversion",
          "hybrid inversion",
          "hybrid inversion",
          "hybrid inversion",
          "hybrid inversion",
          "hybrid inversion",
          "hybrid inversion",
          "hybrid inversion",
          "hybrid inversion",
          "hybrid inversion",
          "hybrid inversion",
          "hybrid inversion",
          "hybrid inversion",
          "hybrid inversion",
          "hybrid inversion",
          "hybrid inversion",
          "hybrid inversion",
          "hybrid inversion",
          "hybrid inversion",
          "hybrid inversion",
          "hybrid inversion",
          "hybrid inversion",
          "hybrid inversion",
          "hybrid inversion",
          "hybrid inversion",
          "hybrid inversion",
          "hybrid inversion",
          "hybrid inversion",
          "hybrid inversion",
          "hybrid inversion",
          "hybrid inversion",
          "hybrid inversion",
          "hybrid inversion",
          "hybrid inversion",
          "hybrid inversion",
          "hybrid inversion",
          "hybrid inversion",
          "hybrid inversion",
          "hybrid inversion",
          "hybrid inversion",
          "hybrid inversion",
          "hybrid inversion",
          "hybrid inversion",
          "hybrid inversion",
          "hybrid inversion",
          "hybrid inversion",
          "hybrid inversion",
          "hybrid inversion",
          "hybrid inversion",
          "hybrid inversion",
          "hybrid inversion",
          "hybrid inversion",
          "hybrid inversion",
          "hybrid inversion",
          "hybrid inversion",
          "hybrid inversion",
          "hybrid inversion",
          "hybrid inversion",
          "hybrid inversion",
          "hybrid inversion",
          "hybrid inversion",
          "hybrid inversion",
          "hybrid inversion",
          "hybrid inversion",
          "hybrid inversion",
          "hybrid inversion"
         ],
         "x0": " ",
         "xaxis": "x",
         "y": [
          0.1674792766571045,
          0.23668783903121948,
          0.15493446588516235,
          0.21207356452941895,
          0.21080279350280762,
          0.18641453981399536,
          0.2178788185119629,
          0.20356059074401855,
          0.3244936466217041,
          0.16958338022232056,
          0.19181042909622192,
          0.15491318702697754,
          0.2648687958717346,
          0.17373937368392944,
          0.15795475244522095,
          0.2357642650604248,
          0.24814724922180176,
          0.18847393989562988,
          0.25824737548828125,
          0.25825053453445435,
          0.23679304122924805,
          0.2757757902145386,
          0.20356148481369019,
          0.20352816581726074,
          0.12684959173202515,
          0.21899449825286865,
          0.14520955085754395,
          0.31611281633377075,
          0.18437814712524414,
          0.11860024929046631,
          0.3161162734031677,
          0.1450798511505127,
          0.17369842529296875,
          0.23534256219863892,
          0.16005218029022217,
          0.21293717622756958,
          0.3160657286643982,
          0.1452094316482544,
          0.2178788185119629,
          0.18871420621871948,
          0.18438047170639038,
          0.2366548776626587,
          0.17056524753570557,
          0.191808819770813,
          0.16069042682647705,
          0.2579383850097656,
          0.23578757047653198,
          0.16067087650299072,
          0.21951472759246826,
          0.15492475032806396,
          0.18436598777770996,
          0.18438923358917236,
          0.18871647119522095,
          0.2861063480377197,
          0.18643879890441895,
          0.19178664684295654,
          0.26486772298812866,
          0.21079105138778687,
          0.21079778671264648,
          0.3018200993537903,
          0.2639561891555786,
          0.15797245502471924,
          0.22781765460968018,
          0.23769384622573853,
          0.2860889434814453,
          0.011544227600097656,
          0.02869480848312378,
          0.009445250034332275,
          0.012462496757507324,
          0.019780993461608887,
          0.013572096824645996,
          0.017776846885681152,
          0.022222161293029785,
          0.03290480375289917,
          0.010936975479125977,
          0.018249213695526123,
          0.009413540363311768,
          0.021402597427368164,
          0.01441049575805664,
          0.010605573654174805,
          0.01425868272781372,
          0.01993870735168457,
          0.009871959686279297,
          0.026411771774291992,
          0.026382803916931152,
          0.022408902645111084,
          0.023631572723388672,
          0.022359192371368408,
          0.022371530532836914,
          0.007741212844848633,
          0.019301176071166992,
          0.007958829402923584,
          0.033102989196777344,
          0.010786175727844238,
          0.008730530738830566,
          0.03311699628829956,
          0.010749101638793945,
          0.014348387718200684,
          0.014724969863891602,
          0.010732948780059814,
          0.016688942909240723,
          0.03272867202758789,
          0.007862746715545654,
          0.017789006233215332,
          0.01413649320602417,
          0.01078265905380249,
          0.02711588144302368,
          0.013447880744934082,
          0.018260955810546875,
          0.01046299934387207,
          0.02248406410217285,
          0.0142439603805542,
          0.010452568531036377,
          0.014295458793640137,
          0.0095406174659729,
          0.010714173316955566,
          0.010800182819366455,
          0.01413649320602417,
          0.018588006496429443,
          0.013615787029266357,
          0.01833939552307129,
          0.02182483673095703,
          0.019807040691375732,
          0.019784986972808838,
          0.014038920402526855,
          0.01621711254119873,
          0.010695219039916992,
          0.014395475387573242,
          0.023766398429870605,
          0.01882648468017578
         ],
         "y0": " ",
         "yaxis": "y"
        },
        {
         "alignmentgroup": "True",
         "hovertemplate": "operation=editing<br>inversion type=%{x}<br>dissimilarity=%{y}<extra></extra>",
         "legendgroup": "editing",
         "marker": {
          "color": "#EF553B"
         },
         "name": "editing",
         "notched": false,
         "offsetgroup": "editing",
         "orientation": "v",
         "quartilemethod": "exclusive",
         "showlegend": true,
         "type": "box",
         "x": [
          "e4e inversion",
          "e4e inversion",
          "e4e inversion",
          "e4e inversion",
          "e4e inversion",
          "e4e inversion",
          "e4e inversion",
          "e4e inversion",
          "e4e inversion",
          "e4e inversion",
          "e4e inversion",
          "e4e inversion",
          "e4e inversion",
          "e4e inversion",
          "e4e inversion",
          "e4e inversion",
          "e4e inversion",
          "e4e inversion",
          "e4e inversion",
          "e4e inversion",
          "e4e inversion",
          "e4e inversion",
          "e4e inversion",
          "e4e inversion",
          "e4e inversion",
          "e4e inversion",
          "e4e inversion",
          "e4e inversion",
          "e4e inversion",
          "e4e inversion",
          "e4e inversion",
          "e4e inversion",
          "e4e inversion",
          "e4e inversion",
          "e4e inversion",
          "e4e inversion",
          "e4e inversion",
          "e4e inversion",
          "e4e inversion",
          "e4e inversion",
          "e4e inversion",
          "e4e inversion",
          "e4e inversion",
          "e4e inversion",
          "e4e inversion",
          "e4e inversion",
          "e4e inversion",
          "e4e inversion",
          "e4e inversion",
          "e4e inversion",
          "e4e inversion",
          "e4e inversion",
          "e4e inversion",
          "e4e inversion",
          "e4e inversion",
          "e4e inversion",
          "e4e inversion",
          "e4e inversion",
          "e4e inversion",
          "e4e inversion",
          "e4e inversion",
          "e4e inversion",
          "e4e inversion",
          "e4e inversion",
          "e4e inversion",
          "hybrid inversion",
          "hybrid inversion",
          "hybrid inversion",
          "hybrid inversion",
          "hybrid inversion",
          "hybrid inversion",
          "hybrid inversion",
          "hybrid inversion",
          "hybrid inversion",
          "hybrid inversion",
          "hybrid inversion",
          "hybrid inversion",
          "hybrid inversion",
          "hybrid inversion",
          "hybrid inversion",
          "hybrid inversion",
          "hybrid inversion",
          "hybrid inversion",
          "hybrid inversion",
          "hybrid inversion",
          "hybrid inversion",
          "hybrid inversion",
          "hybrid inversion",
          "hybrid inversion",
          "hybrid inversion",
          "hybrid inversion",
          "hybrid inversion",
          "hybrid inversion",
          "hybrid inversion",
          "hybrid inversion",
          "hybrid inversion",
          "hybrid inversion",
          "hybrid inversion",
          "hybrid inversion",
          "hybrid inversion",
          "hybrid inversion",
          "hybrid inversion",
          "hybrid inversion",
          "hybrid inversion",
          "hybrid inversion",
          "hybrid inversion",
          "hybrid inversion",
          "hybrid inversion",
          "hybrid inversion",
          "hybrid inversion",
          "hybrid inversion",
          "hybrid inversion",
          "hybrid inversion",
          "hybrid inversion",
          "hybrid inversion",
          "hybrid inversion",
          "hybrid inversion",
          "hybrid inversion",
          "hybrid inversion",
          "hybrid inversion",
          "hybrid inversion",
          "hybrid inversion",
          "hybrid inversion",
          "hybrid inversion",
          "hybrid inversion",
          "hybrid inversion",
          "hybrid inversion",
          "hybrid inversion",
          "hybrid inversion",
          "hybrid inversion"
         ],
         "x0": " ",
         "xaxis": "x",
         "y": [
          0.19397270679473877,
          0.2993103861808777,
          0.17391151189804077,
          0.23096132278442383,
          0.25729048252105713,
          0.21539455652236938,
          0.2916732430458069,
          0.21585309505462646,
          0.343658447265625,
          0.19440168142318726,
          0.24969089031219482,
          0.17457562685012817,
          0.283163845539093,
          0.17227768898010254,
          0.18727600574493408,
          0.26085156202316284,
          0.29183220863342285,
          0.22479331493377686,
          0.3008846044540405,
          0.3014214038848877,
          0.299607515335083,
          0.3124532103538513,
          0.21471571922302246,
          0.21231508255004883,
          0.13162386417388916,
          0.23525655269622803,
          0.21788012981414795,
          0.364349365234375,
          0.21318387985229492,
          0.16067612171173096,
          0.37203890085220337,
          0.16656070947647095,
          0.16899049282073975,
          0.2714301347732544,
          0.18633103370666504,
          0.2154085636138916,
          0.3643673062324524,
          0.21690988540649414,
          0.29489678144454956,
          0.2076888084411621,
          0.21924066543579102,
          0.29616934061050415,
          0.1855972409248352,
          0.24780571460723877,
          0.1488381028175354,
          0.2690430283546448,
          0.25750553607940674,
          0.151076078414917,
          0.2359917163848877,
          0.1744701862335205,
          0.21647727489471436,
          0.20740193128585815,
          0.20506739616394043,
          0.301163911819458,
          0.20135247707366943,
          0.24470090866088867,
          0.285763144493103,
          0.26985645294189453,
          0.2648320198059082,
          0.36139458417892456,
          0.3113948106765747,
          0.19135284423828125,
          0.24919962882995605,
          0.25222551822662354,
          0.3007197380065918,
          0.017329633235931396,
          0.05798548460006714,
          0.039276301860809326,
          0.08438670635223389,
          0.0509796142578125,
          0.16050398349761963,
          0.062352538108825684,
          0.053105831146240234,
          0.06296372413635254,
          0.06489861011505127,
          0.0952569842338562,
          0.038673460483551025,
          0.1283678412437439,
          0.036016762256622314,
          0.04357481002807617,
          0.05943179130554199,
          0.06485253572463989,
          0.1050649881362915,
          0.10477256774902344,
          0.1074761152267456,
          0.1468750238418579,
          0.06553226709365845,
          0.07249325513839722,
          0.0795128345489502,
          0.0365828275680542,
          0.09303206205368042,
          0.10346919298171997,
          0.21238434314727783,
          0.0472949743270874,
          0.14591741561889648,
          0.21387231349945068,
          0.02641075849533081,
          0.03673529624938965,
          0.057383179664611816,
          0.07012832164764404,
          0.046308279037475586,
          0.21569454669952393,
          0.09900116920471191,
          0.056525468826293945,
          0.07505333423614502,
          0.04758733510971069,
          0.06008422374725342,
          0.04123932123184204,
          0.09904390573501587,
          0.05023193359375,
          0.11265093088150024,
          0.0609930157661438,
          0.05369603633880615,
          0.07208853960037231,
          0.041240692138671875,
          0.04730689525604248,
          0.04763364791870117,
          0.07590389251708984,
          0.16504520177841187,
          0.15974783897399902,
          0.10154253244400024,
          0.1613866090774536,
          0.05050849914550781,
          0.05045729875564575,
          0.17463839054107666,
          0.06208229064941406,
          0.041934311389923096,
          0.09840375185012817,
          0.04825711250305176,
          0.16830098628997803
         ],
         "y0": " ",
         "yaxis": "y"
        }
       ],
       "layout": {
        "boxmode": "group",
        "height": 400,
        "legend": {
         "title": {
          "text": "operation"
         },
         "tracegroupgap": 0
        },
        "margin": {
         "b": 20,
         "l": 20,
         "r": 20,
         "t": 50
        },
        "template": {
         "data": {
          "bar": [
           {
            "error_x": {
             "color": "#2a3f5f"
            },
            "error_y": {
             "color": "#2a3f5f"
            },
            "marker": {
             "line": {
              "color": "#E5ECF6",
              "width": 0.5
             },
             "pattern": {
              "fillmode": "overlay",
              "size": 10,
              "solidity": 0.2
             }
            },
            "type": "bar"
           }
          ],
          "barpolar": [
           {
            "marker": {
             "line": {
              "color": "#E5ECF6",
              "width": 0.5
             },
             "pattern": {
              "fillmode": "overlay",
              "size": 10,
              "solidity": 0.2
             }
            },
            "type": "barpolar"
           }
          ],
          "carpet": [
           {
            "aaxis": {
             "endlinecolor": "#2a3f5f",
             "gridcolor": "white",
             "linecolor": "white",
             "minorgridcolor": "white",
             "startlinecolor": "#2a3f5f"
            },
            "baxis": {
             "endlinecolor": "#2a3f5f",
             "gridcolor": "white",
             "linecolor": "white",
             "minorgridcolor": "white",
             "startlinecolor": "#2a3f5f"
            },
            "type": "carpet"
           }
          ],
          "choropleth": [
           {
            "colorbar": {
             "outlinewidth": 0,
             "ticks": ""
            },
            "type": "choropleth"
           }
          ],
          "contour": [
           {
            "colorbar": {
             "outlinewidth": 0,
             "ticks": ""
            },
            "colorscale": [
             [
              0,
              "#0d0887"
             ],
             [
              0.1111111111111111,
              "#46039f"
             ],
             [
              0.2222222222222222,
              "#7201a8"
             ],
             [
              0.3333333333333333,
              "#9c179e"
             ],
             [
              0.4444444444444444,
              "#bd3786"
             ],
             [
              0.5555555555555556,
              "#d8576b"
             ],
             [
              0.6666666666666666,
              "#ed7953"
             ],
             [
              0.7777777777777778,
              "#fb9f3a"
             ],
             [
              0.8888888888888888,
              "#fdca26"
             ],
             [
              1,
              "#f0f921"
             ]
            ],
            "type": "contour"
           }
          ],
          "contourcarpet": [
           {
            "colorbar": {
             "outlinewidth": 0,
             "ticks": ""
            },
            "type": "contourcarpet"
           }
          ],
          "heatmap": [
           {
            "colorbar": {
             "outlinewidth": 0,
             "ticks": ""
            },
            "colorscale": [
             [
              0,
              "#0d0887"
             ],
             [
              0.1111111111111111,
              "#46039f"
             ],
             [
              0.2222222222222222,
              "#7201a8"
             ],
             [
              0.3333333333333333,
              "#9c179e"
             ],
             [
              0.4444444444444444,
              "#bd3786"
             ],
             [
              0.5555555555555556,
              "#d8576b"
             ],
             [
              0.6666666666666666,
              "#ed7953"
             ],
             [
              0.7777777777777778,
              "#fb9f3a"
             ],
             [
              0.8888888888888888,
              "#fdca26"
             ],
             [
              1,
              "#f0f921"
             ]
            ],
            "type": "heatmap"
           }
          ],
          "heatmapgl": [
           {
            "colorbar": {
             "outlinewidth": 0,
             "ticks": ""
            },
            "colorscale": [
             [
              0,
              "#0d0887"
             ],
             [
              0.1111111111111111,
              "#46039f"
             ],
             [
              0.2222222222222222,
              "#7201a8"
             ],
             [
              0.3333333333333333,
              "#9c179e"
             ],
             [
              0.4444444444444444,
              "#bd3786"
             ],
             [
              0.5555555555555556,
              "#d8576b"
             ],
             [
              0.6666666666666666,
              "#ed7953"
             ],
             [
              0.7777777777777778,
              "#fb9f3a"
             ],
             [
              0.8888888888888888,
              "#fdca26"
             ],
             [
              1,
              "#f0f921"
             ]
            ],
            "type": "heatmapgl"
           }
          ],
          "histogram": [
           {
            "marker": {
             "pattern": {
              "fillmode": "overlay",
              "size": 10,
              "solidity": 0.2
             }
            },
            "type": "histogram"
           }
          ],
          "histogram2d": [
           {
            "colorbar": {
             "outlinewidth": 0,
             "ticks": ""
            },
            "colorscale": [
             [
              0,
              "#0d0887"
             ],
             [
              0.1111111111111111,
              "#46039f"
             ],
             [
              0.2222222222222222,
              "#7201a8"
             ],
             [
              0.3333333333333333,
              "#9c179e"
             ],
             [
              0.4444444444444444,
              "#bd3786"
             ],
             [
              0.5555555555555556,
              "#d8576b"
             ],
             [
              0.6666666666666666,
              "#ed7953"
             ],
             [
              0.7777777777777778,
              "#fb9f3a"
             ],
             [
              0.8888888888888888,
              "#fdca26"
             ],
             [
              1,
              "#f0f921"
             ]
            ],
            "type": "histogram2d"
           }
          ],
          "histogram2dcontour": [
           {
            "colorbar": {
             "outlinewidth": 0,
             "ticks": ""
            },
            "colorscale": [
             [
              0,
              "#0d0887"
             ],
             [
              0.1111111111111111,
              "#46039f"
             ],
             [
              0.2222222222222222,
              "#7201a8"
             ],
             [
              0.3333333333333333,
              "#9c179e"
             ],
             [
              0.4444444444444444,
              "#bd3786"
             ],
             [
              0.5555555555555556,
              "#d8576b"
             ],
             [
              0.6666666666666666,
              "#ed7953"
             ],
             [
              0.7777777777777778,
              "#fb9f3a"
             ],
             [
              0.8888888888888888,
              "#fdca26"
             ],
             [
              1,
              "#f0f921"
             ]
            ],
            "type": "histogram2dcontour"
           }
          ],
          "mesh3d": [
           {
            "colorbar": {
             "outlinewidth": 0,
             "ticks": ""
            },
            "type": "mesh3d"
           }
          ],
          "parcoords": [
           {
            "line": {
             "colorbar": {
              "outlinewidth": 0,
              "ticks": ""
             }
            },
            "type": "parcoords"
           }
          ],
          "pie": [
           {
            "automargin": true,
            "type": "pie"
           }
          ],
          "scatter": [
           {
            "fillpattern": {
             "fillmode": "overlay",
             "size": 10,
             "solidity": 0.2
            },
            "type": "scatter"
           }
          ],
          "scatter3d": [
           {
            "line": {
             "colorbar": {
              "outlinewidth": 0,
              "ticks": ""
             }
            },
            "marker": {
             "colorbar": {
              "outlinewidth": 0,
              "ticks": ""
             }
            },
            "type": "scatter3d"
           }
          ],
          "scattercarpet": [
           {
            "marker": {
             "colorbar": {
              "outlinewidth": 0,
              "ticks": ""
             }
            },
            "type": "scattercarpet"
           }
          ],
          "scattergeo": [
           {
            "marker": {
             "colorbar": {
              "outlinewidth": 0,
              "ticks": ""
             }
            },
            "type": "scattergeo"
           }
          ],
          "scattergl": [
           {
            "marker": {
             "colorbar": {
              "outlinewidth": 0,
              "ticks": ""
             }
            },
            "type": "scattergl"
           }
          ],
          "scattermapbox": [
           {
            "marker": {
             "colorbar": {
              "outlinewidth": 0,
              "ticks": ""
             }
            },
            "type": "scattermapbox"
           }
          ],
          "scatterpolar": [
           {
            "marker": {
             "colorbar": {
              "outlinewidth": 0,
              "ticks": ""
             }
            },
            "type": "scatterpolar"
           }
          ],
          "scatterpolargl": [
           {
            "marker": {
             "colorbar": {
              "outlinewidth": 0,
              "ticks": ""
             }
            },
            "type": "scatterpolargl"
           }
          ],
          "scatterternary": [
           {
            "marker": {
             "colorbar": {
              "outlinewidth": 0,
              "ticks": ""
             }
            },
            "type": "scatterternary"
           }
          ],
          "surface": [
           {
            "colorbar": {
             "outlinewidth": 0,
             "ticks": ""
            },
            "colorscale": [
             [
              0,
              "#0d0887"
             ],
             [
              0.1111111111111111,
              "#46039f"
             ],
             [
              0.2222222222222222,
              "#7201a8"
             ],
             [
              0.3333333333333333,
              "#9c179e"
             ],
             [
              0.4444444444444444,
              "#bd3786"
             ],
             [
              0.5555555555555556,
              "#d8576b"
             ],
             [
              0.6666666666666666,
              "#ed7953"
             ],
             [
              0.7777777777777778,
              "#fb9f3a"
             ],
             [
              0.8888888888888888,
              "#fdca26"
             ],
             [
              1,
              "#f0f921"
             ]
            ],
            "type": "surface"
           }
          ],
          "table": [
           {
            "cells": {
             "fill": {
              "color": "#EBF0F8"
             },
             "line": {
              "color": "white"
             }
            },
            "header": {
             "fill": {
              "color": "#C8D4E3"
             },
             "line": {
              "color": "white"
             }
            },
            "type": "table"
           }
          ]
         },
         "layout": {
          "annotationdefaults": {
           "arrowcolor": "#2a3f5f",
           "arrowhead": 0,
           "arrowwidth": 1
          },
          "autotypenumbers": "strict",
          "coloraxis": {
           "colorbar": {
            "outlinewidth": 0,
            "ticks": ""
           }
          },
          "colorscale": {
           "diverging": [
            [
             0,
             "#8e0152"
            ],
            [
             0.1,
             "#c51b7d"
            ],
            [
             0.2,
             "#de77ae"
            ],
            [
             0.3,
             "#f1b6da"
            ],
            [
             0.4,
             "#fde0ef"
            ],
            [
             0.5,
             "#f7f7f7"
            ],
            [
             0.6,
             "#e6f5d0"
            ],
            [
             0.7,
             "#b8e186"
            ],
            [
             0.8,
             "#7fbc41"
            ],
            [
             0.9,
             "#4d9221"
            ],
            [
             1,
             "#276419"
            ]
           ],
           "sequential": [
            [
             0,
             "#0d0887"
            ],
            [
             0.1111111111111111,
             "#46039f"
            ],
            [
             0.2222222222222222,
             "#7201a8"
            ],
            [
             0.3333333333333333,
             "#9c179e"
            ],
            [
             0.4444444444444444,
             "#bd3786"
            ],
            [
             0.5555555555555556,
             "#d8576b"
            ],
            [
             0.6666666666666666,
             "#ed7953"
            ],
            [
             0.7777777777777778,
             "#fb9f3a"
            ],
            [
             0.8888888888888888,
             "#fdca26"
            ],
            [
             1,
             "#f0f921"
            ]
           ],
           "sequentialminus": [
            [
             0,
             "#0d0887"
            ],
            [
             0.1111111111111111,
             "#46039f"
            ],
            [
             0.2222222222222222,
             "#7201a8"
            ],
            [
             0.3333333333333333,
             "#9c179e"
            ],
            [
             0.4444444444444444,
             "#bd3786"
            ],
            [
             0.5555555555555556,
             "#d8576b"
            ],
            [
             0.6666666666666666,
             "#ed7953"
            ],
            [
             0.7777777777777778,
             "#fb9f3a"
            ],
            [
             0.8888888888888888,
             "#fdca26"
            ],
            [
             1,
             "#f0f921"
            ]
           ]
          },
          "colorway": [
           "#636efa",
           "#EF553B",
           "#00cc96",
           "#ab63fa",
           "#FFA15A",
           "#19d3f3",
           "#FF6692",
           "#B6E880",
           "#FF97FF",
           "#FECB52"
          ],
          "font": {
           "color": "#2a3f5f"
          },
          "geo": {
           "bgcolor": "white",
           "lakecolor": "white",
           "landcolor": "#E5ECF6",
           "showlakes": true,
           "showland": true,
           "subunitcolor": "white"
          },
          "hoverlabel": {
           "align": "left"
          },
          "hovermode": "closest",
          "mapbox": {
           "style": "light"
          },
          "paper_bgcolor": "white",
          "plot_bgcolor": "#E5ECF6",
          "polar": {
           "angularaxis": {
            "gridcolor": "white",
            "linecolor": "white",
            "ticks": ""
           },
           "bgcolor": "#E5ECF6",
           "radialaxis": {
            "gridcolor": "white",
            "linecolor": "white",
            "ticks": ""
           }
          },
          "scene": {
           "xaxis": {
            "backgroundcolor": "#E5ECF6",
            "gridcolor": "white",
            "gridwidth": 2,
            "linecolor": "white",
            "showbackground": true,
            "ticks": "",
            "zerolinecolor": "white"
           },
           "yaxis": {
            "backgroundcolor": "#E5ECF6",
            "gridcolor": "white",
            "gridwidth": 2,
            "linecolor": "white",
            "showbackground": true,
            "ticks": "",
            "zerolinecolor": "white"
           },
           "zaxis": {
            "backgroundcolor": "#E5ECF6",
            "gridcolor": "white",
            "gridwidth": 2,
            "linecolor": "white",
            "showbackground": true,
            "ticks": "",
            "zerolinecolor": "white"
           }
          },
          "shapedefaults": {
           "line": {
            "color": "#2a3f5f"
           }
          },
          "ternary": {
           "aaxis": {
            "gridcolor": "white",
            "linecolor": "white",
            "ticks": ""
           },
           "baxis": {
            "gridcolor": "white",
            "linecolor": "white",
            "ticks": ""
           },
           "bgcolor": "#E5ECF6",
           "caxis": {
            "gridcolor": "white",
            "linecolor": "white",
            "ticks": ""
           }
          },
          "title": {
           "x": 0.05
          },
          "xaxis": {
           "automargin": true,
           "gridcolor": "white",
           "linecolor": "white",
           "ticks": "",
           "title": {
            "standoff": 15
           },
           "zerolinecolor": "white",
           "zerolinewidth": 2
          },
          "yaxis": {
           "automargin": true,
           "gridcolor": "white",
           "linecolor": "white",
           "ticks": "",
           "title": {
            "standoff": 15
           },
           "zerolinecolor": "white",
           "zerolinewidth": 2
          }
         }
        },
        "title": {
         "text": "Dissimilarity between original and edited"
        },
        "width": 400,
        "xaxis": {
         "anchor": "y",
         "domain": [
          0,
          1
         ],
         "title": {
          "text": "inversion type"
         }
        },
        "yaxis": {
         "anchor": "x",
         "domain": [
          0,
          1
         ],
         "title": {
          "text": "dissimilarity"
         }
        }
       }
      },
      "text/html": [
       "<div>                            <div id=\"8fe35467-7b9a-45da-9b18-ea2fc9d78a34\" class=\"plotly-graph-div\" style=\"height:400px; width:400px;\"></div>            <script type=\"text/javascript\">                require([\"plotly\"], function(Plotly) {                    window.PLOTLYENV=window.PLOTLYENV || {};                                    if (document.getElementById(\"8fe35467-7b9a-45da-9b18-ea2fc9d78a34\")) {                    Plotly.newPlot(                        \"8fe35467-7b9a-45da-9b18-ea2fc9d78a34\",                        [{\"alignmentgroup\":\"True\",\"hovertemplate\":\"operation=inversion\\u003cbr\\u003einversion type=%{x}\\u003cbr\\u003edissimilarity=%{y}\\u003cextra\\u003e\\u003c\\u002fextra\\u003e\",\"legendgroup\":\"inversion\",\"marker\":{\"color\":\"#636efa\"},\"name\":\"inversion\",\"notched\":false,\"offsetgroup\":\"inversion\",\"orientation\":\"v\",\"showlegend\":true,\"x\":[\"e4e inversion\",\"e4e inversion\",\"e4e inversion\",\"e4e inversion\",\"e4e inversion\",\"e4e inversion\",\"e4e inversion\",\"e4e inversion\",\"e4e inversion\",\"e4e inversion\",\"e4e inversion\",\"e4e inversion\",\"e4e inversion\",\"e4e inversion\",\"e4e inversion\",\"e4e inversion\",\"e4e inversion\",\"e4e inversion\",\"e4e inversion\",\"e4e inversion\",\"e4e inversion\",\"e4e inversion\",\"e4e inversion\",\"e4e inversion\",\"e4e inversion\",\"e4e inversion\",\"e4e inversion\",\"e4e inversion\",\"e4e inversion\",\"e4e inversion\",\"e4e inversion\",\"e4e inversion\",\"e4e inversion\",\"e4e inversion\",\"e4e inversion\",\"e4e inversion\",\"e4e inversion\",\"e4e inversion\",\"e4e inversion\",\"e4e inversion\",\"e4e inversion\",\"e4e inversion\",\"e4e inversion\",\"e4e inversion\",\"e4e inversion\",\"e4e inversion\",\"e4e inversion\",\"e4e inversion\",\"e4e inversion\",\"e4e inversion\",\"e4e inversion\",\"e4e inversion\",\"e4e inversion\",\"e4e inversion\",\"e4e inversion\",\"e4e inversion\",\"e4e inversion\",\"e4e inversion\",\"e4e inversion\",\"e4e inversion\",\"e4e inversion\",\"e4e inversion\",\"e4e inversion\",\"e4e inversion\",\"e4e inversion\",\"hybrid inversion\",\"hybrid inversion\",\"hybrid inversion\",\"hybrid inversion\",\"hybrid inversion\",\"hybrid inversion\",\"hybrid inversion\",\"hybrid inversion\",\"hybrid inversion\",\"hybrid inversion\",\"hybrid inversion\",\"hybrid inversion\",\"hybrid inversion\",\"hybrid inversion\",\"hybrid inversion\",\"hybrid inversion\",\"hybrid inversion\",\"hybrid inversion\",\"hybrid inversion\",\"hybrid inversion\",\"hybrid inversion\",\"hybrid inversion\",\"hybrid inversion\",\"hybrid inversion\",\"hybrid inversion\",\"hybrid inversion\",\"hybrid inversion\",\"hybrid inversion\",\"hybrid inversion\",\"hybrid inversion\",\"hybrid inversion\",\"hybrid inversion\",\"hybrid inversion\",\"hybrid inversion\",\"hybrid inversion\",\"hybrid inversion\",\"hybrid inversion\",\"hybrid inversion\",\"hybrid inversion\",\"hybrid inversion\",\"hybrid inversion\",\"hybrid inversion\",\"hybrid inversion\",\"hybrid inversion\",\"hybrid inversion\",\"hybrid inversion\",\"hybrid inversion\",\"hybrid inversion\",\"hybrid inversion\",\"hybrid inversion\",\"hybrid inversion\",\"hybrid inversion\",\"hybrid inversion\",\"hybrid inversion\",\"hybrid inversion\",\"hybrid inversion\",\"hybrid inversion\",\"hybrid inversion\",\"hybrid inversion\",\"hybrid inversion\",\"hybrid inversion\",\"hybrid inversion\",\"hybrid inversion\",\"hybrid inversion\",\"hybrid inversion\"],\"x0\":\" \",\"xaxis\":\"x\",\"y\":[0.1674792766571045,0.23668783903121948,0.15493446588516235,0.21207356452941895,0.21080279350280762,0.18641453981399536,0.2178788185119629,0.20356059074401855,0.3244936466217041,0.16958338022232056,0.19181042909622192,0.15491318702697754,0.2648687958717346,0.17373937368392944,0.15795475244522095,0.2357642650604248,0.24814724922180176,0.18847393989562988,0.25824737548828125,0.25825053453445435,0.23679304122924805,0.2757757902145386,0.20356148481369019,0.20352816581726074,0.12684959173202515,0.21899449825286865,0.14520955085754395,0.31611281633377075,0.18437814712524414,0.11860024929046631,0.3161162734031677,0.1450798511505127,0.17369842529296875,0.23534256219863892,0.16005218029022217,0.21293717622756958,0.3160657286643982,0.1452094316482544,0.2178788185119629,0.18871420621871948,0.18438047170639038,0.2366548776626587,0.17056524753570557,0.191808819770813,0.16069042682647705,0.2579383850097656,0.23578757047653198,0.16067087650299072,0.21951472759246826,0.15492475032806396,0.18436598777770996,0.18438923358917236,0.18871647119522095,0.2861063480377197,0.18643879890441895,0.19178664684295654,0.26486772298812866,0.21079105138778687,0.21079778671264648,0.3018200993537903,0.2639561891555786,0.15797245502471924,0.22781765460968018,0.23769384622573853,0.2860889434814453,0.011544227600097656,0.02869480848312378,0.009445250034332275,0.012462496757507324,0.019780993461608887,0.013572096824645996,0.017776846885681152,0.022222161293029785,0.03290480375289917,0.010936975479125977,0.018249213695526123,0.009413540363311768,0.021402597427368164,0.01441049575805664,0.010605573654174805,0.01425868272781372,0.01993870735168457,0.009871959686279297,0.026411771774291992,0.026382803916931152,0.022408902645111084,0.023631572723388672,0.022359192371368408,0.022371530532836914,0.007741212844848633,0.019301176071166992,0.007958829402923584,0.033102989196777344,0.010786175727844238,0.008730530738830566,0.03311699628829956,0.010749101638793945,0.014348387718200684,0.014724969863891602,0.010732948780059814,0.016688942909240723,0.03272867202758789,0.007862746715545654,0.017789006233215332,0.01413649320602417,0.01078265905380249,0.02711588144302368,0.013447880744934082,0.018260955810546875,0.01046299934387207,0.02248406410217285,0.0142439603805542,0.010452568531036377,0.014295458793640137,0.0095406174659729,0.010714173316955566,0.010800182819366455,0.01413649320602417,0.018588006496429443,0.013615787029266357,0.01833939552307129,0.02182483673095703,0.019807040691375732,0.019784986972808838,0.014038920402526855,0.01621711254119873,0.010695219039916992,0.014395475387573242,0.023766398429870605,0.01882648468017578],\"y0\":\" \",\"yaxis\":\"y\",\"type\":\"box\",\"quartilemethod\":\"exclusive\"},{\"alignmentgroup\":\"True\",\"hovertemplate\":\"operation=editing\\u003cbr\\u003einversion type=%{x}\\u003cbr\\u003edissimilarity=%{y}\\u003cextra\\u003e\\u003c\\u002fextra\\u003e\",\"legendgroup\":\"editing\",\"marker\":{\"color\":\"#EF553B\"},\"name\":\"editing\",\"notched\":false,\"offsetgroup\":\"editing\",\"orientation\":\"v\",\"showlegend\":true,\"x\":[\"e4e inversion\",\"e4e inversion\",\"e4e inversion\",\"e4e inversion\",\"e4e inversion\",\"e4e inversion\",\"e4e inversion\",\"e4e inversion\",\"e4e inversion\",\"e4e inversion\",\"e4e inversion\",\"e4e inversion\",\"e4e inversion\",\"e4e inversion\",\"e4e inversion\",\"e4e inversion\",\"e4e inversion\",\"e4e inversion\",\"e4e inversion\",\"e4e inversion\",\"e4e inversion\",\"e4e inversion\",\"e4e inversion\",\"e4e inversion\",\"e4e inversion\",\"e4e inversion\",\"e4e inversion\",\"e4e inversion\",\"e4e inversion\",\"e4e inversion\",\"e4e inversion\",\"e4e inversion\",\"e4e inversion\",\"e4e inversion\",\"e4e inversion\",\"e4e inversion\",\"e4e inversion\",\"e4e inversion\",\"e4e inversion\",\"e4e inversion\",\"e4e inversion\",\"e4e inversion\",\"e4e inversion\",\"e4e inversion\",\"e4e inversion\",\"e4e inversion\",\"e4e inversion\",\"e4e inversion\",\"e4e inversion\",\"e4e inversion\",\"e4e inversion\",\"e4e inversion\",\"e4e inversion\",\"e4e inversion\",\"e4e inversion\",\"e4e inversion\",\"e4e inversion\",\"e4e inversion\",\"e4e inversion\",\"e4e inversion\",\"e4e inversion\",\"e4e inversion\",\"e4e inversion\",\"e4e inversion\",\"e4e inversion\",\"hybrid inversion\",\"hybrid inversion\",\"hybrid inversion\",\"hybrid inversion\",\"hybrid inversion\",\"hybrid inversion\",\"hybrid inversion\",\"hybrid inversion\",\"hybrid inversion\",\"hybrid inversion\",\"hybrid inversion\",\"hybrid inversion\",\"hybrid inversion\",\"hybrid inversion\",\"hybrid inversion\",\"hybrid inversion\",\"hybrid inversion\",\"hybrid inversion\",\"hybrid inversion\",\"hybrid inversion\",\"hybrid inversion\",\"hybrid inversion\",\"hybrid inversion\",\"hybrid inversion\",\"hybrid inversion\",\"hybrid inversion\",\"hybrid inversion\",\"hybrid inversion\",\"hybrid inversion\",\"hybrid inversion\",\"hybrid inversion\",\"hybrid inversion\",\"hybrid inversion\",\"hybrid inversion\",\"hybrid inversion\",\"hybrid inversion\",\"hybrid inversion\",\"hybrid inversion\",\"hybrid inversion\",\"hybrid inversion\",\"hybrid inversion\",\"hybrid inversion\",\"hybrid inversion\",\"hybrid inversion\",\"hybrid inversion\",\"hybrid inversion\",\"hybrid inversion\",\"hybrid inversion\",\"hybrid inversion\",\"hybrid inversion\",\"hybrid inversion\",\"hybrid inversion\",\"hybrid inversion\",\"hybrid inversion\",\"hybrid inversion\",\"hybrid inversion\",\"hybrid inversion\",\"hybrid inversion\",\"hybrid inversion\",\"hybrid inversion\",\"hybrid inversion\",\"hybrid inversion\",\"hybrid inversion\",\"hybrid inversion\",\"hybrid inversion\"],\"x0\":\" \",\"xaxis\":\"x\",\"y\":[0.19397270679473877,0.2993103861808777,0.17391151189804077,0.23096132278442383,0.25729048252105713,0.21539455652236938,0.2916732430458069,0.21585309505462646,0.343658447265625,0.19440168142318726,0.24969089031219482,0.17457562685012817,0.283163845539093,0.17227768898010254,0.18727600574493408,0.26085156202316284,0.29183220863342285,0.22479331493377686,0.3008846044540405,0.3014214038848877,0.299607515335083,0.3124532103538513,0.21471571922302246,0.21231508255004883,0.13162386417388916,0.23525655269622803,0.21788012981414795,0.364349365234375,0.21318387985229492,0.16067612171173096,0.37203890085220337,0.16656070947647095,0.16899049282073975,0.2714301347732544,0.18633103370666504,0.2154085636138916,0.3643673062324524,0.21690988540649414,0.29489678144454956,0.2076888084411621,0.21924066543579102,0.29616934061050415,0.1855972409248352,0.24780571460723877,0.1488381028175354,0.2690430283546448,0.25750553607940674,0.151076078414917,0.2359917163848877,0.1744701862335205,0.21647727489471436,0.20740193128585815,0.20506739616394043,0.301163911819458,0.20135247707366943,0.24470090866088867,0.285763144493103,0.26985645294189453,0.2648320198059082,0.36139458417892456,0.3113948106765747,0.19135284423828125,0.24919962882995605,0.25222551822662354,0.3007197380065918,0.017329633235931396,0.05798548460006714,0.039276301860809326,0.08438670635223389,0.0509796142578125,0.16050398349761963,0.062352538108825684,0.053105831146240234,0.06296372413635254,0.06489861011505127,0.0952569842338562,0.038673460483551025,0.1283678412437439,0.036016762256622314,0.04357481002807617,0.05943179130554199,0.06485253572463989,0.1050649881362915,0.10477256774902344,0.1074761152267456,0.1468750238418579,0.06553226709365845,0.07249325513839722,0.0795128345489502,0.0365828275680542,0.09303206205368042,0.10346919298171997,0.21238434314727783,0.0472949743270874,0.14591741561889648,0.21387231349945068,0.02641075849533081,0.03673529624938965,0.057383179664611816,0.07012832164764404,0.046308279037475586,0.21569454669952393,0.09900116920471191,0.056525468826293945,0.07505333423614502,0.04758733510971069,0.06008422374725342,0.04123932123184204,0.09904390573501587,0.05023193359375,0.11265093088150024,0.0609930157661438,0.05369603633880615,0.07208853960037231,0.041240692138671875,0.04730689525604248,0.04763364791870117,0.07590389251708984,0.16504520177841187,0.15974783897399902,0.10154253244400024,0.1613866090774536,0.05050849914550781,0.05045729875564575,0.17463839054107666,0.06208229064941406,0.041934311389923096,0.09840375185012817,0.04825711250305176,0.16830098628997803],\"y0\":\" \",\"yaxis\":\"y\",\"type\":\"box\",\"quartilemethod\":\"exclusive\"}],                        {\"template\":{\"data\":{\"histogram2dcontour\":[{\"type\":\"histogram2dcontour\",\"colorbar\":{\"outlinewidth\":0,\"ticks\":\"\"},\"colorscale\":[[0.0,\"#0d0887\"],[0.1111111111111111,\"#46039f\"],[0.2222222222222222,\"#7201a8\"],[0.3333333333333333,\"#9c179e\"],[0.4444444444444444,\"#bd3786\"],[0.5555555555555556,\"#d8576b\"],[0.6666666666666666,\"#ed7953\"],[0.7777777777777778,\"#fb9f3a\"],[0.8888888888888888,\"#fdca26\"],[1.0,\"#f0f921\"]]}],\"choropleth\":[{\"type\":\"choropleth\",\"colorbar\":{\"outlinewidth\":0,\"ticks\":\"\"}}],\"histogram2d\":[{\"type\":\"histogram2d\",\"colorbar\":{\"outlinewidth\":0,\"ticks\":\"\"},\"colorscale\":[[0.0,\"#0d0887\"],[0.1111111111111111,\"#46039f\"],[0.2222222222222222,\"#7201a8\"],[0.3333333333333333,\"#9c179e\"],[0.4444444444444444,\"#bd3786\"],[0.5555555555555556,\"#d8576b\"],[0.6666666666666666,\"#ed7953\"],[0.7777777777777778,\"#fb9f3a\"],[0.8888888888888888,\"#fdca26\"],[1.0,\"#f0f921\"]]}],\"heatmap\":[{\"type\":\"heatmap\",\"colorbar\":{\"outlinewidth\":0,\"ticks\":\"\"},\"colorscale\":[[0.0,\"#0d0887\"],[0.1111111111111111,\"#46039f\"],[0.2222222222222222,\"#7201a8\"],[0.3333333333333333,\"#9c179e\"],[0.4444444444444444,\"#bd3786\"],[0.5555555555555556,\"#d8576b\"],[0.6666666666666666,\"#ed7953\"],[0.7777777777777778,\"#fb9f3a\"],[0.8888888888888888,\"#fdca26\"],[1.0,\"#f0f921\"]]}],\"heatmapgl\":[{\"type\":\"heatmapgl\",\"colorbar\":{\"outlinewidth\":0,\"ticks\":\"\"},\"colorscale\":[[0.0,\"#0d0887\"],[0.1111111111111111,\"#46039f\"],[0.2222222222222222,\"#7201a8\"],[0.3333333333333333,\"#9c179e\"],[0.4444444444444444,\"#bd3786\"],[0.5555555555555556,\"#d8576b\"],[0.6666666666666666,\"#ed7953\"],[0.7777777777777778,\"#fb9f3a\"],[0.8888888888888888,\"#fdca26\"],[1.0,\"#f0f921\"]]}],\"contourcarpet\":[{\"type\":\"contourcarpet\",\"colorbar\":{\"outlinewidth\":0,\"ticks\":\"\"}}],\"contour\":[{\"type\":\"contour\",\"colorbar\":{\"outlinewidth\":0,\"ticks\":\"\"},\"colorscale\":[[0.0,\"#0d0887\"],[0.1111111111111111,\"#46039f\"],[0.2222222222222222,\"#7201a8\"],[0.3333333333333333,\"#9c179e\"],[0.4444444444444444,\"#bd3786\"],[0.5555555555555556,\"#d8576b\"],[0.6666666666666666,\"#ed7953\"],[0.7777777777777778,\"#fb9f3a\"],[0.8888888888888888,\"#fdca26\"],[1.0,\"#f0f921\"]]}],\"surface\":[{\"type\":\"surface\",\"colorbar\":{\"outlinewidth\":0,\"ticks\":\"\"},\"colorscale\":[[0.0,\"#0d0887\"],[0.1111111111111111,\"#46039f\"],[0.2222222222222222,\"#7201a8\"],[0.3333333333333333,\"#9c179e\"],[0.4444444444444444,\"#bd3786\"],[0.5555555555555556,\"#d8576b\"],[0.6666666666666666,\"#ed7953\"],[0.7777777777777778,\"#fb9f3a\"],[0.8888888888888888,\"#fdca26\"],[1.0,\"#f0f921\"]]}],\"mesh3d\":[{\"type\":\"mesh3d\",\"colorbar\":{\"outlinewidth\":0,\"ticks\":\"\"}}],\"scatter\":[{\"fillpattern\":{\"fillmode\":\"overlay\",\"size\":10,\"solidity\":0.2},\"type\":\"scatter\"}],\"parcoords\":[{\"type\":\"parcoords\",\"line\":{\"colorbar\":{\"outlinewidth\":0,\"ticks\":\"\"}}}],\"scatterpolargl\":[{\"type\":\"scatterpolargl\",\"marker\":{\"colorbar\":{\"outlinewidth\":0,\"ticks\":\"\"}}}],\"bar\":[{\"error_x\":{\"color\":\"#2a3f5f\"},\"error_y\":{\"color\":\"#2a3f5f\"},\"marker\":{\"line\":{\"color\":\"#E5ECF6\",\"width\":0.5},\"pattern\":{\"fillmode\":\"overlay\",\"size\":10,\"solidity\":0.2}},\"type\":\"bar\"}],\"scattergeo\":[{\"type\":\"scattergeo\",\"marker\":{\"colorbar\":{\"outlinewidth\":0,\"ticks\":\"\"}}}],\"scatterpolar\":[{\"type\":\"scatterpolar\",\"marker\":{\"colorbar\":{\"outlinewidth\":0,\"ticks\":\"\"}}}],\"histogram\":[{\"marker\":{\"pattern\":{\"fillmode\":\"overlay\",\"size\":10,\"solidity\":0.2}},\"type\":\"histogram\"}],\"scattergl\":[{\"type\":\"scattergl\",\"marker\":{\"colorbar\":{\"outlinewidth\":0,\"ticks\":\"\"}}}],\"scatter3d\":[{\"type\":\"scatter3d\",\"line\":{\"colorbar\":{\"outlinewidth\":0,\"ticks\":\"\"}},\"marker\":{\"colorbar\":{\"outlinewidth\":0,\"ticks\":\"\"}}}],\"scattermapbox\":[{\"type\":\"scattermapbox\",\"marker\":{\"colorbar\":{\"outlinewidth\":0,\"ticks\":\"\"}}}],\"scatterternary\":[{\"type\":\"scatterternary\",\"marker\":{\"colorbar\":{\"outlinewidth\":0,\"ticks\":\"\"}}}],\"scattercarpet\":[{\"type\":\"scattercarpet\",\"marker\":{\"colorbar\":{\"outlinewidth\":0,\"ticks\":\"\"}}}],\"carpet\":[{\"aaxis\":{\"endlinecolor\":\"#2a3f5f\",\"gridcolor\":\"white\",\"linecolor\":\"white\",\"minorgridcolor\":\"white\",\"startlinecolor\":\"#2a3f5f\"},\"baxis\":{\"endlinecolor\":\"#2a3f5f\",\"gridcolor\":\"white\",\"linecolor\":\"white\",\"minorgridcolor\":\"white\",\"startlinecolor\":\"#2a3f5f\"},\"type\":\"carpet\"}],\"table\":[{\"cells\":{\"fill\":{\"color\":\"#EBF0F8\"},\"line\":{\"color\":\"white\"}},\"header\":{\"fill\":{\"color\":\"#C8D4E3\"},\"line\":{\"color\":\"white\"}},\"type\":\"table\"}],\"barpolar\":[{\"marker\":{\"line\":{\"color\":\"#E5ECF6\",\"width\":0.5},\"pattern\":{\"fillmode\":\"overlay\",\"size\":10,\"solidity\":0.2}},\"type\":\"barpolar\"}],\"pie\":[{\"automargin\":true,\"type\":\"pie\"}]},\"layout\":{\"autotypenumbers\":\"strict\",\"colorway\":[\"#636efa\",\"#EF553B\",\"#00cc96\",\"#ab63fa\",\"#FFA15A\",\"#19d3f3\",\"#FF6692\",\"#B6E880\",\"#FF97FF\",\"#FECB52\"],\"font\":{\"color\":\"#2a3f5f\"},\"hovermode\":\"closest\",\"hoverlabel\":{\"align\":\"left\"},\"paper_bgcolor\":\"white\",\"plot_bgcolor\":\"#E5ECF6\",\"polar\":{\"bgcolor\":\"#E5ECF6\",\"angularaxis\":{\"gridcolor\":\"white\",\"linecolor\":\"white\",\"ticks\":\"\"},\"radialaxis\":{\"gridcolor\":\"white\",\"linecolor\":\"white\",\"ticks\":\"\"}},\"ternary\":{\"bgcolor\":\"#E5ECF6\",\"aaxis\":{\"gridcolor\":\"white\",\"linecolor\":\"white\",\"ticks\":\"\"},\"baxis\":{\"gridcolor\":\"white\",\"linecolor\":\"white\",\"ticks\":\"\"},\"caxis\":{\"gridcolor\":\"white\",\"linecolor\":\"white\",\"ticks\":\"\"}},\"coloraxis\":{\"colorbar\":{\"outlinewidth\":0,\"ticks\":\"\"}},\"colorscale\":{\"sequential\":[[0.0,\"#0d0887\"],[0.1111111111111111,\"#46039f\"],[0.2222222222222222,\"#7201a8\"],[0.3333333333333333,\"#9c179e\"],[0.4444444444444444,\"#bd3786\"],[0.5555555555555556,\"#d8576b\"],[0.6666666666666666,\"#ed7953\"],[0.7777777777777778,\"#fb9f3a\"],[0.8888888888888888,\"#fdca26\"],[1.0,\"#f0f921\"]],\"sequentialminus\":[[0.0,\"#0d0887\"],[0.1111111111111111,\"#46039f\"],[0.2222222222222222,\"#7201a8\"],[0.3333333333333333,\"#9c179e\"],[0.4444444444444444,\"#bd3786\"],[0.5555555555555556,\"#d8576b\"],[0.6666666666666666,\"#ed7953\"],[0.7777777777777778,\"#fb9f3a\"],[0.8888888888888888,\"#fdca26\"],[1.0,\"#f0f921\"]],\"diverging\":[[0,\"#8e0152\"],[0.1,\"#c51b7d\"],[0.2,\"#de77ae\"],[0.3,\"#f1b6da\"],[0.4,\"#fde0ef\"],[0.5,\"#f7f7f7\"],[0.6,\"#e6f5d0\"],[0.7,\"#b8e186\"],[0.8,\"#7fbc41\"],[0.9,\"#4d9221\"],[1,\"#276419\"]]},\"xaxis\":{\"gridcolor\":\"white\",\"linecolor\":\"white\",\"ticks\":\"\",\"title\":{\"standoff\":15},\"zerolinecolor\":\"white\",\"automargin\":true,\"zerolinewidth\":2},\"yaxis\":{\"gridcolor\":\"white\",\"linecolor\":\"white\",\"ticks\":\"\",\"title\":{\"standoff\":15},\"zerolinecolor\":\"white\",\"automargin\":true,\"zerolinewidth\":2},\"scene\":{\"xaxis\":{\"backgroundcolor\":\"#E5ECF6\",\"gridcolor\":\"white\",\"linecolor\":\"white\",\"showbackground\":true,\"ticks\":\"\",\"zerolinecolor\":\"white\",\"gridwidth\":2},\"yaxis\":{\"backgroundcolor\":\"#E5ECF6\",\"gridcolor\":\"white\",\"linecolor\":\"white\",\"showbackground\":true,\"ticks\":\"\",\"zerolinecolor\":\"white\",\"gridwidth\":2},\"zaxis\":{\"backgroundcolor\":\"#E5ECF6\",\"gridcolor\":\"white\",\"linecolor\":\"white\",\"showbackground\":true,\"ticks\":\"\",\"zerolinecolor\":\"white\",\"gridwidth\":2}},\"shapedefaults\":{\"line\":{\"color\":\"#2a3f5f\"}},\"annotationdefaults\":{\"arrowcolor\":\"#2a3f5f\",\"arrowhead\":0,\"arrowwidth\":1},\"geo\":{\"bgcolor\":\"white\",\"landcolor\":\"#E5ECF6\",\"subunitcolor\":\"white\",\"showland\":true,\"showlakes\":true,\"lakecolor\":\"white\"},\"title\":{\"x\":0.05},\"mapbox\":{\"style\":\"light\"}}},\"xaxis\":{\"anchor\":\"y\",\"domain\":[0.0,1.0],\"title\":{\"text\":\"inversion type\"}},\"yaxis\":{\"anchor\":\"x\",\"domain\":[0.0,1.0],\"title\":{\"text\":\"dissimilarity\"}},\"legend\":{\"title\":{\"text\":\"operation\"},\"tracegroupgap\":0},\"margin\":{\"t\":50,\"l\":20,\"r\":20,\"b\":20},\"boxmode\":\"group\",\"title\":{\"text\":\"Dissimilarity between original and edited\"},\"width\":400,\"height\":400},                        {\"responsive\": true}                    ).then(function(){\n",
       "                            \n",
       "var gd = document.getElementById('8fe35467-7b9a-45da-9b18-ea2fc9d78a34');\n",
       "var x = new MutationObserver(function (mutations, observer) {{\n",
       "        var display = window.getComputedStyle(gd).display;\n",
       "        if (!display || display === 'none') {{\n",
       "            console.log([gd, 'removed!']);\n",
       "            Plotly.purge(gd);\n",
       "            observer.disconnect();\n",
       "        }}\n",
       "}});\n",
       "\n",
       "// Listen for the removal of the full notebook cells\n",
       "var notebookContainer = gd.closest('#notebook-container');\n",
       "if (notebookContainer) {{\n",
       "    x.observe(notebookContainer, {childList: true});\n",
       "}}\n",
       "\n",
       "// Listen for the clearing of the current output cell\n",
       "var outputEl = gd.closest('.output');\n",
       "if (outputEl) {{\n",
       "    x.observe(outputEl, {childList: true});\n",
       "}}\n",
       "\n",
       "                        })                };                });            </script>        </div>"
      ]
     },
     "metadata": {},
     "output_type": "display_data"
    }
   ],
   "source": [
    "import plotly.express as px\n",
    "import pandas as pd\n",
    "import numpy as np\n",
    "\n",
    "data = {\n",
    "    \"inversion type\": [\"e4e inversion\"] * len(sims_e4e) * 2 + [\"hybrid inversion\"] * len(sims_hybrid) * 2,\n",
    "    \"operation\": [\"inversion\"] * len(sims_e4e) + [\"editing\"] * len(sims_e4e) + [\"inversion\"] * len(sims_hybrid) + [\"editing\"] * len(sims_hybrid),\n",
    "    \"dissimilarity\": (\n",
    "        sims_e4e.tolist() +  # Distribution A\n",
    "        sims_e4e_edit.tolist() +  # Distribution A\n",
    "        sims_hybrid.tolist() + # Distribution B\n",
    "        sims_hybrid_edit.tolist()  # Distribution B\n",
    "    )\n",
    "}\n",
    "\n",
    "df = pd.DataFrame(data)\n",
    "\n",
    "fig = px.box(df, x=\"inversion type\", y=\"dissimilarity\", color=\"operation\")\n",
    "fig.update_traces(quartilemethod=\"exclusive\") # or \"inclusive\", or \"linear\" by default\n",
    "fig.update_layout(title=\"Dissimilarity between original and edited\")\n",
    "\n",
    "fig.update_layout(width=400, height=400, margin=dict(l=20, r=20, t=50, b=20))\n",
    "\n",
    "fig.show()\n",
    "\n",
    "# fig.write_image(\"figures/dissimilarity_plot.png\")\n",
    "\n"
   ]
  },
  {
   "cell_type": "code",
   "execution_count": 9,
   "metadata": {},
   "outputs": [
    {
     "ename": "NameError",
     "evalue": "name 'emo_scores_hybrid' is not defined",
     "output_type": "error",
     "traceback": [
      "\u001b[0;31m---------------------------------------------------------------------------\u001b[0m",
      "\u001b[0;31mNameError\u001b[0m                                 Traceback (most recent call last)",
      "Cell \u001b[0;32mIn[9], line 9\u001b[0m\n\u001b[1;32m      2\u001b[0m \u001b[38;5;28;01mimport\u001b[39;00m \u001b[38;5;21;01mpandas\u001b[39;00m \u001b[38;5;28;01mas\u001b[39;00m \u001b[38;5;21;01mpd\u001b[39;00m\n\u001b[1;32m      3\u001b[0m \u001b[38;5;28;01mimport\u001b[39;00m \u001b[38;5;21;01mnumpy\u001b[39;00m \u001b[38;5;28;01mas\u001b[39;00m \u001b[38;5;21;01mnp\u001b[39;00m\n\u001b[1;32m      5\u001b[0m data \u001b[38;5;241m=\u001b[39m {\n\u001b[1;32m      6\u001b[0m     \u001b[38;5;124m\"\u001b[39m\u001b[38;5;124minversion type\u001b[39m\u001b[38;5;124m\"\u001b[39m: [\u001b[38;5;124m\"\u001b[39m\u001b[38;5;124me4e inversion\u001b[39m\u001b[38;5;124m\"\u001b[39m] \u001b[38;5;241m*\u001b[39m \u001b[38;5;28mlen\u001b[39m(sims_e4e) \u001b[38;5;241m+\u001b[39m [\u001b[38;5;124m\"\u001b[39m\u001b[38;5;124mhybrid inversion\u001b[39m\u001b[38;5;124m\"\u001b[39m] \u001b[38;5;241m*\u001b[39m \u001b[38;5;28mlen\u001b[39m(sims_hybrid),\n\u001b[1;32m      7\u001b[0m     \u001b[38;5;124m\"\u001b[39m\u001b[38;5;124memotion loss\u001b[39m\u001b[38;5;124m\"\u001b[39m: (\n\u001b[1;32m      8\u001b[0m         emo_scores_e4e\u001b[38;5;241m.\u001b[39mtolist() \u001b[38;5;241m+\u001b[39m \n\u001b[0;32m----> 9\u001b[0m         \u001b[43memo_scores_hybrid\u001b[49m\u001b[38;5;241m.\u001b[39mtolist()\n\u001b[1;32m     10\u001b[0m     )\n\u001b[1;32m     11\u001b[0m }\n\u001b[1;32m     13\u001b[0m df \u001b[38;5;241m=\u001b[39m pd\u001b[38;5;241m.\u001b[39mDataFrame(data)\n\u001b[1;32m     15\u001b[0m fig \u001b[38;5;241m=\u001b[39m px\u001b[38;5;241m.\u001b[39mbox(df, x\u001b[38;5;241m=\u001b[39m\u001b[38;5;124m\"\u001b[39m\u001b[38;5;124minversion type\u001b[39m\u001b[38;5;124m\"\u001b[39m, y\u001b[38;5;241m=\u001b[39m\u001b[38;5;124m\"\u001b[39m\u001b[38;5;124memotion loss\u001b[39m\u001b[38;5;124m\"\u001b[39m, color\u001b[38;5;241m=\u001b[39m\u001b[38;5;124m\"\u001b[39m\u001b[38;5;124minversion type\u001b[39m\u001b[38;5;124m\"\u001b[39m)\n",
      "\u001b[0;31mNameError\u001b[0m: name 'emo_scores_hybrid' is not defined"
     ]
    }
   ],
   "source": [
    "import plotly.express as px\n",
    "import pandas as pd\n",
    "import numpy as np\n",
    "\n",
    "data = {\n",
    "    \"inversion type\": [\"e4e inversion\"] * len(sims_e4e) + [\"hybrid inversion\"] * len(sims_hybrid),\n",
    "    \"emotion loss\": (\n",
    "        emo_scores_e4e.tolist() + \n",
    "        emo_scores_hybrid.tolist()\n",
    "    )\n",
    "}\n",
    "\n",
    "df = pd.DataFrame(data)\n",
    "\n",
    "fig = px.box(df, x=\"inversion type\", y=\"emotion loss\", color=\"inversion type\")\n",
    "fig.update_traces(quartilemethod=\"exclusive\") # or \"inclusive\", or \"linear\" by default\n",
    "fig.update_layout(title=\"Impact of inversion type on editing performance\")\n",
    "\n",
    "fig.update_layout(width=400, height=400, margin=dict(l=20, r=20, t=50, b=20))\n",
    "\n",
    "# fig.show()\n",
    "\n",
    "fig.write_image(\"figures/dissimilarity_plot.png\")\n",
    "\n",
    "fig.show()"
   ]
  },
  {
   "cell_type": "code",
   "execution_count": null,
   "metadata": {},
   "outputs": [],
   "source": []
  }
 ],
 "metadata": {
  "kernelspec": {
   "display_name": "Python 3",
   "language": "python",
   "name": "python3"
  },
  "language_info": {
   "codemirror_mode": {
    "name": "ipython",
    "version": 3
   },
   "file_extension": ".py",
   "mimetype": "text/x-python",
   "name": "python",
   "nbconvert_exporter": "python",
   "pygments_lexer": "ipython3",
   "version": "3.9.21"
  }
 },
 "nbformat": 4,
 "nbformat_minor": 2
}
